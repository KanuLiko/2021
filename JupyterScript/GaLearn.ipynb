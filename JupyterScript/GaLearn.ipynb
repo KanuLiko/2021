{
 "metadata": {
  "language_info": {
   "codemirror_mode": {
    "name": "ipython",
    "version": 3
   },
   "file_extension": ".py",
   "mimetype": "text/x-python",
   "name": "python",
   "nbconvert_exporter": "python",
   "pygments_lexer": "ipython3",
   "version": "3.8.7-final"
  },
  "orig_nbformat": 2,
  "kernelspec": {
   "name": "python3",
   "display_name": "Python 3.8.7 64-bit",
   "metadata": {
    "interpreter": {
     "hash": "1baa965d5efe3ac65b79dfc60c0d706280b1da80fedb7760faf2759126c4f253"
    }
   }
  }
 },
 "nbformat": 4,
 "nbformat_minor": 2,
 "cells": [
  {
   "cell_type": "code",
   "execution_count": 1,
   "metadata": {},
   "outputs": [],
   "source": [
    "#导入相关要使用的包\n",
    "import random\n",
    "import math\n",
    "import matplotlib.pyplot as plt "
   ]
  },
  {
   "cell_type": "code",
   "execution_count": 2,
   "metadata": {},
   "outputs": [],
   "source": [
    "#目标函数\n",
    "def TargetFunc(x,y):\n",
    "    temp = []\n",
    "    for i,j in zip(x,y):\n",
    "        temp.append(math.sin(i)+math.sin(j))\n",
    "    return temp"
   ]
  },
  {
   "cell_type": "code",
   "execution_count": 3,
   "metadata": {},
   "outputs": [],
   "source": [
    "#初始化生成chromosome_length大小的population_size个个体的二进制基因型种群\n",
    "def species_origin(population_size,chromosome_length):\n",
    "    population=[[]]#一维表示种群的基因 \n",
    "    for i in range(population_size):\n",
    "        temporary=[]\n",
    "        for j in range(2*chromosome_length):\n",
    "            temporary.append(random.randint(0,1))#获得二进制编码\n",
    "        population.append(temporary)\n",
    "    return population[1:]"
   ]
  },
  {
   "cell_type": "code",
   "execution_count": 4,
   "metadata": {},
   "outputs": [],
   "source": [
    "#编码:将二进制的染色体的基因型编码成十进制的表现型\n",
    "#从二进制和十进制\n",
    "#input:种群，染色体长度\n",
    "def translatior(population,chromosome_length):\n",
    "    temporary = [[],[]]\n",
    "    for i in range(len(population)):\n",
    "        total1 = 0\n",
    "        total2 = 0\n",
    "        for j in range(chromosome_length):\n",
    "            total1 += population[i][j]*(math.pow(2,j))\n",
    "            total2 += population[i][j+chromosome_length]*(math.pow(2,j))\n",
    "            #从第一个基因开始，每对2求幂，再求和\n",
    "        temporary[0].append(total1)\n",
    "        temporary[1].append(total2)\n",
    "        #一个染色体编码完成，由一个二进制数编码为一个十进制数\n",
    "    return temporary"
   ]
  },
  {
   "cell_type": "code",
   "execution_count": 5,
   "metadata": {},
   "outputs": [],
   "source": [
    "#获得相关的位置的坐标\n",
    "def getxycoordination(population):\n",
    "    population_trans = translatior(population,chromosome_length=int(len(population[0])/2))\n",
    "    x = [xvalue*2*math.pi/(math.pow(2,chomosome_length)-1) for xvalue in population_trans[0]]\n",
    "    y = [yvalue*2*math.pi/(math.pow(2,chomosome_length)-1) for yvalue in population_trans[1]]\n",
    "    return x,y\n",
    "\n",
    "#计算适应度\n",
    "def AdaptFunc(population_trans,chomosome_length):\n",
    "    chomosome_length = chomosome_length/2\n",
    "    x = [xvalue*2*math.pi/(math.pow(2,chomosome_length)-1) for xvalue in population_trans[0]]\n",
    "    y = [yvalue*2*math.pi/(math.pow(2,chomosome_length)-1) for yvalue in population_trans[1]]\n",
    "    AdaptValue = TargetFunc(x,y)\n",
    "    return AdaptValue\n",
    "def choose_probability(AdaptValue):\n",
    "    temp_probability = []\n",
    "    for i in range(len(AdaptValue)):\n",
    "        if(AdaptValue[i]<0):\n",
    "            AdaptValue[i] = 0\n",
    "    totalValue = sum(AdaptValue)\n",
    "    for value in AdaptValue:\n",
    "        temp_probability.append(value/totalValue)\n",
    "    return temp_probability\n",
    "def Cumulative_Probability(temp_probability):\n",
    "    CumulativeProbability = []\n",
    "    total = sum(temp_probability)\n",
    "    count_probability = 0\n",
    "    for Sprobability in temp_probability:\n",
    "        count_probability = count_probability + Sprobability\n",
    "        CumulativeProbability.append(count_probability/total)\n",
    "    return CumulativeProbability\n",
    "\n",
    "#对种群进行选择操作，选出里面比较优秀的个体\n",
    "def selection(population,CumulativeProbability):\n",
    "    probability = []\n",
    "    for i in range(len(population)):\n",
    "        probability.append(random.random())\n",
    "    probability.sort()#默认从小到大进行排序的操作\n",
    "    new_pop  = []\n",
    "    for i in range(len(population)):\n",
    "        for j in range(len(population)):\n",
    "            if probability[i]>CumulativeProbability[j]:\n",
    "                continue\n",
    "            else:\n",
    "                new_pop.append(population[j])\n",
    "                break\n",
    "    return new_pop #返回新的种群个体,经过轮盘赌选的操作,优秀的个体会慢慢的增加\n",
    "\n",
    "def crossover(population,chomosome_length):#种群内部的基因交叉操作\n",
    "    #这里采取单点或多点交叉的方式\n",
    "    #确定交叉的位置\n",
    "    startPos = 0\n",
    "    endPos = 0\n",
    "    while(startPos==endPos):\n",
    "        Pos =[random.randint(0,chomosome_length),random.randint(0,chomosome_length)]\n",
    "        Pos.sort()\n",
    "        startPos = Pos[0]\n",
    "        endPos = Pos[1]\n",
    "    for i in range(len(population)-1):\n",
    "        for e in range(startPos,endPos):\n",
    "            population[i][e] = population[i][e]*population[i+1][e]\n",
    "            population[i][e+chomosome_length] = population[i][e+chomosome_length]*population[i+1][e+chomosome_length]\n",
    "    return population\n",
    "\n",
    "#进行相关染色体的变异操作\n",
    "def mutation(population,mutation_rate):#变异操作\n",
    "    #mutation_rate指的是变异的概率\n",
    "    #求出种群中的所有种群/个体的个数\n",
    "    PopLen = len(population)\n",
    "    #染色体中的基因的个数\n",
    "    chomoLen = len(population[0])/2\n",
    "    for i in range(PopLen):\n",
    "        #如果小于阈值则进行变异的操作\n",
    "        if (random.random()<mutation_rate):\n",
    "            #随机产生变异的基因位置\n",
    "            mutationPos = random.randint(0,chomoLen)\n",
    "            if population[i][mutationPos]==0:\n",
    "                population[i][mutationPos]=1\n",
    "            else:\n",
    "                population[i][mutationPos]=0\n",
    "    return population"
   ]
  },
  {
   "cell_type": "code",
   "execution_count": 7,
   "metadata": {
    "tags": []
   },
   "outputs": [
    {
     "output_type": "stream",
     "name": "stdout",
     "text": [
      "[1.9999480870277697, 1.9995217654315327, 1.9987769646424316, 1.994543103950489, 1.995925612672147, 1.999229785130666, 1.9995486832116312, 1.9958570733462473, 1.998085973086086, 1.9933692238965617, 1.9936286723196799, 1.99295495875911, 1.9863790247105257, 1.994305426765302, 1.9855039753296098, 1.983459582170215, 1.9853839333698928, 1.9901606491606643, 1.990252548174206, 1.9947872218590916, 1.9813140169795511, 1.9672874513920469, 1.9376257145813438, 1.9319934930836937, 1.97435738994263, 1.9831703002110488, 1.9585450826501138, 1.9881319150884074, 1.8497814085247246, 1.9290360862576463]\n"
     ]
    },
    {
     "output_type": "execute_result",
     "data": {
      "text/plain": [
       "[<matplotlib.lines.Line2D at 0x13c8b79a2b0>]"
      ]
     },
     "metadata": {},
     "execution_count": 7
    },
    {
     "output_type": "display_data",
     "data": {
      "text/plain": "<Figure size 432x288 with 1 Axes>",
      "image/svg+xml": "<?xml version=\"1.0\" encoding=\"utf-8\" standalone=\"no\"?>\r\n<!DOCTYPE svg PUBLIC \"-//W3C//DTD SVG 1.1//EN\"\r\n  \"http://www.w3.org/Graphics/SVG/1.1/DTD/svg11.dtd\">\r\n<!-- Created with matplotlib (https://matplotlib.org/) -->\r\n<svg height=\"247.741563pt\" version=\"1.1\" viewBox=\"0 0 378.969303 247.741563\" width=\"378.969303pt\" xmlns=\"http://www.w3.org/2000/svg\" xmlns:xlink=\"http://www.w3.org/1999/xlink\">\r\n <metadata>\r\n  <rdf:RDF xmlns:cc=\"http://creativecommons.org/ns#\" xmlns:dc=\"http://purl.org/dc/elements/1.1/\" xmlns:rdf=\"http://www.w3.org/1999/02/22-rdf-syntax-ns#\">\r\n   <cc:Work>\r\n    <dc:type rdf:resource=\"http://purl.org/dc/dcmitype/StillImage\"/>\r\n    <dc:date>2021-01-19T22:28:46.821571</dc:date>\r\n    <dc:format>image/svg+xml</dc:format>\r\n    <dc:creator>\r\n     <cc:Agent>\r\n      <dc:title>Matplotlib v3.3.3, https://matplotlib.org/</dc:title>\r\n     </cc:Agent>\r\n    </dc:creator>\r\n   </cc:Work>\r\n  </rdf:RDF>\r\n </metadata>\r\n <defs>\r\n  <style type=\"text/css\">*{stroke-linecap:butt;stroke-linejoin:round;}</style>\r\n </defs>\r\n <g id=\"figure_1\">\r\n  <g id=\"patch_1\">\r\n   <path d=\"M 0 247.741563 \r\nL 378.969303 247.741563 \r\nL 378.969303 0 \r\nL 0 0 \r\nz\r\n\" style=\"fill:none;\"/>\r\n  </g>\r\n  <g id=\"axes_1\">\r\n   <g id=\"patch_2\">\r\n    <path d=\"M 36.19375 224.64 \r\nL 370.99375 224.64 \r\nL 370.99375 7.2 \r\nL 36.19375 7.2 \r\nz\r\n\" style=\"fill:#ffffff;\"/>\r\n   </g>\r\n   <g id=\"matplotlib.axis_1\">\r\n    <g id=\"xtick_1\">\r\n     <g id=\"line2d_1\">\r\n      <defs>\r\n       <path d=\"M 0 0 \r\nL 0 3.5 \r\n\" id=\"m1ed3bbccda\" style=\"stroke:#000000;stroke-width:0.8;\"/>\r\n      </defs>\r\n      <g>\r\n       <use style=\"stroke:#000000;stroke-width:0.8;\" x=\"51.411932\" xlink:href=\"#m1ed3bbccda\" y=\"224.64\"/>\r\n      </g>\r\n     </g>\r\n     <g id=\"text_1\">\r\n      <!-- 0 -->\r\n      <g transform=\"translate(48.662713 238.54)scale(0.1 -0.1)\">\r\n       <defs>\r\n        <path d=\"M 22.609375 -0.875 \r\nQ 18.5 -0.875 15.15625 0.40625 \r\nQ 11.8125 1.703125 9.4375 4.359375 \r\nQ 7.078125 7.03125 5.78125 11.0625 \r\nQ 4.5 15.09375 4.5 20.515625 \r\nQ 4.5 23 4.8125 26.1875 \r\nQ 5.125 29.390625 5.828125 32.953125 \r\nQ 6.546875 36.53125 7.71875 40.28125 \r\nQ 8.890625 44.046875 10.625 47.5625 \r\nQ 12.359375 51.078125 14.671875 54.203125 \r\nQ 17 57.328125 20.015625 59.640625 \r\nQ 23.046875 61.96875 26.796875 63.328125 \r\nQ 30.5625 64.703125 35.203125 64.703125 \r\nQ 39.3125 64.703125 42.65625 63.40625 \r\nQ 46 62.109375 48.359375 59.4375 \r\nQ 50.734375 56.78125 52.03125 52.75 \r\nQ 53.328125 48.734375 53.328125 43.3125 \r\nQ 53.328125 40.828125 53 37.59375 \r\nQ 52.6875 34.375 51.96875 30.8125 \r\nQ 51.265625 27.25 50.09375 23.515625 \r\nQ 48.921875 19.78125 47.1875 16.265625 \r\nQ 45.453125 12.75 43.140625 9.625 \r\nQ 40.828125 6.5 37.796875 4.171875 \r\nQ 34.765625 1.859375 30.984375 0.484375 \r\nQ 27.203125 -0.875 22.609375 -0.875 \r\nz\r\nM 23.6875 6.296875 \r\nQ 26.953125 6.296875 29.6875 7.703125 \r\nQ 32.421875 9.125 34.609375 11.5 \r\nQ 36.8125 13.875 38.5 17.046875 \r\nQ 40.1875 20.21875 41.40625 23.703125 \r\nQ 42.625 27.203125 43.359375 30.859375 \r\nQ 44.09375 34.515625 44.390625 37.890625 \r\nL 13.28125 17.828125 \r\nQ 13.53125 15.28125 14.1875 13.171875 \r\nQ 14.84375 11.078125 16.078125 9.546875 \r\nQ 17.328125 8.015625 19.1875 7.15625 \r\nQ 21.046875 6.296875 23.6875 6.296875 \r\nz\r\nM 34.078125 57.515625 \r\nQ 30.8125 57.515625 28.125 56.140625 \r\nQ 25.4375 54.78125 23.265625 52.453125 \r\nQ 21.09375 50.140625 19.40625 47.046875 \r\nQ 17.71875 43.953125 16.5 40.5 \r\nQ 15.28125 37.0625 14.5 33.4375 \r\nQ 13.71875 29.828125 13.375 26.515625 \r\nL 44.484375 46.484375 \r\nQ 44.1875 48.875 43.453125 50.90625 \r\nQ 42.71875 52.9375 41.46875 54.390625 \r\nQ 40.234375 55.859375 38.40625 56.6875 \r\nQ 36.578125 57.515625 34.078125 57.515625 \r\nz\r\n\" id=\"Consolas-Italic-48\"/>\r\n       </defs>\r\n       <use xlink:href=\"#Consolas-Italic-48\"/>\r\n      </g>\r\n     </g>\r\n    </g>\r\n    <g id=\"xtick_2\">\r\n     <g id=\"line2d_2\">\r\n      <g>\r\n       <use style=\"stroke:#000000;stroke-width:0.8;\" x=\"103.888421\" xlink:href=\"#m1ed3bbccda\" y=\"224.64\"/>\r\n      </g>\r\n     </g>\r\n     <g id=\"text_2\">\r\n      <!-- 5 -->\r\n      <g transform=\"translate(101.139202 238.54)scale(0.1 -0.1)\">\r\n       <defs>\r\n        <path d=\"M 46.921875 23.484375 \r\nQ 46.921875 18.40625 44.59375 13.953125 \r\nQ 42.28125 9.515625 38.171875 6.21875 \r\nQ 34.078125 2.9375 28.46875 1.03125 \r\nQ 22.859375 -0.875 16.21875 -0.875 \r\nQ 14.59375 -0.875 12.890625 -0.796875 \r\nQ 11.1875 -0.734375 9.546875 -0.609375 \r\nQ 7.90625 -0.484375 6.390625 -0.3125 \r\nQ 4.890625 -0.140625 3.71875 0.09375 \r\nL 5.171875 7.625 \r\nQ 6.453125 7.328125 7.9375 7.109375 \r\nQ 9.421875 6.890625 10.953125 6.734375 \r\nQ 12.5 6.59375 14.03125 6.546875 \r\nQ 15.578125 6.5 17 6.5 \r\nQ 21.578125 6.5 25.390625 7.71875 \r\nQ 29.203125 8.9375 31.953125 11.109375 \r\nQ 34.71875 13.28125 36.25 16.203125 \r\nQ 37.796875 19.140625 37.796875 22.515625 \r\nQ 37.796875 26.8125 34.234375 29 \r\nQ 30.671875 31.203125 23.1875 31.203125 \r\nL 10.984375 31.203125 \r\nL 17.578125 63.8125 \r\nL 52 63.8125 \r\nL 50.484375 56.390625 \r\nL 24.125 56.390625 \r\nL 20.515625 38.484375 \r\nL 25.59375 38.484375 \r\nQ 29.9375 38.484375 33.8125 37.640625 \r\nQ 37.703125 36.8125 40.59375 35.03125 \r\nQ 43.5 33.25 45.203125 30.390625 \r\nQ 46.921875 27.546875 46.921875 23.484375 \r\nz\r\n\" id=\"Consolas-Italic-53\"/>\r\n       </defs>\r\n       <use xlink:href=\"#Consolas-Italic-53\"/>\r\n      </g>\r\n     </g>\r\n    </g>\r\n    <g id=\"xtick_3\">\r\n     <g id=\"line2d_3\">\r\n      <g>\r\n       <use style=\"stroke:#000000;stroke-width:0.8;\" x=\"156.36491\" xlink:href=\"#m1ed3bbccda\" y=\"224.64\"/>\r\n      </g>\r\n     </g>\r\n     <g id=\"text_3\">\r\n      <!-- 10 -->\r\n      <g transform=\"translate(150.866472 238.54)scale(0.1 -0.1)\">\r\n       <defs>\r\n        <path d=\"M 43.703125 0 \r\nL 3.609375 0 \r\nL 5.171875 7.90625 \r\nL 21.578125 7.90625 \r\nL 30.8125 54 \r\nL 14.203125 45.90625 \r\nL 12.109375 53.421875 \r\nL 34.515625 64.109375 \r\nL 42.1875 64.109375 \r\nL 31 7.90625 \r\nL 45.3125 7.90625 \r\nz\r\n\" id=\"Consolas-Italic-49\"/>\r\n       </defs>\r\n       <use xlink:href=\"#Consolas-Italic-49\"/>\r\n       <use x=\"54.980469\" xlink:href=\"#Consolas-Italic-48\"/>\r\n      </g>\r\n     </g>\r\n    </g>\r\n    <g id=\"xtick_4\">\r\n     <g id=\"line2d_4\">\r\n      <g>\r\n       <use style=\"stroke:#000000;stroke-width:0.8;\" x=\"208.841399\" xlink:href=\"#m1ed3bbccda\" y=\"224.64\"/>\r\n      </g>\r\n     </g>\r\n     <g id=\"text_4\">\r\n      <!-- 15 -->\r\n      <g transform=\"translate(203.342961 238.54)scale(0.1 -0.1)\">\r\n       <use xlink:href=\"#Consolas-Italic-49\"/>\r\n       <use x=\"54.980469\" xlink:href=\"#Consolas-Italic-53\"/>\r\n      </g>\r\n     </g>\r\n    </g>\r\n    <g id=\"xtick_5\">\r\n     <g id=\"line2d_5\">\r\n      <g>\r\n       <use style=\"stroke:#000000;stroke-width:0.8;\" x=\"261.317888\" xlink:href=\"#m1ed3bbccda\" y=\"224.64\"/>\r\n      </g>\r\n     </g>\r\n     <g id=\"text_5\">\r\n      <!-- 20 -->\r\n      <g transform=\"translate(255.81945 238.54)scale(0.1 -0.1)\">\r\n       <defs>\r\n        <path d=\"M 44.1875 0 \r\nL 2.203125 0 \r\nL 3.71875 7.625 \r\nL 23.484375 24.21875 \r\nQ 29.046875 28.90625 32.484375 32.421875 \r\nQ 35.9375 35.9375 37.84375 38.734375 \r\nQ 39.75 41.546875 40.421875 43.859375 \r\nQ 41.109375 46.1875 41.109375 48.484375 \r\nQ 41.109375 52.390625 38.90625 54.78125 \r\nQ 36.71875 57.171875 32.078125 57.171875 \r\nQ 28.03125 57.171875 24.34375 55.359375 \r\nQ 20.65625 53.5625 17.28125 50.6875 \r\nL 13.09375 56.296875 \r\nQ 15.28125 58.203125 17.59375 59.734375 \r\nQ 19.921875 61.28125 22.4375 62.375 \r\nQ 24.953125 63.484375 27.703125 64.09375 \r\nQ 30.46875 64.703125 33.5 64.703125 \r\nQ 37.25 64.703125 40.328125 63.625 \r\nQ 43.40625 62.546875 45.59375 60.515625 \r\nQ 47.796875 58.5 49 55.65625 \r\nQ 50.203125 52.828125 50.203125 49.3125 \r\nQ 50.203125 45.453125 49.09375 42.0625 \r\nQ 48 38.671875 45.5 35.203125 \r\nQ 43.015625 31.734375 39.015625 27.921875 \r\nQ 35.015625 24.125 29.203125 19.390625 \r\nL 15.28125 8.109375 \r\nL 45.796875 8.109375 \r\nz\r\n\" id=\"Consolas-Italic-50\"/>\r\n       </defs>\r\n       <use xlink:href=\"#Consolas-Italic-50\"/>\r\n       <use x=\"54.980469\" xlink:href=\"#Consolas-Italic-48\"/>\r\n      </g>\r\n     </g>\r\n    </g>\r\n    <g id=\"xtick_6\">\r\n     <g id=\"line2d_6\">\r\n      <g>\r\n       <use style=\"stroke:#000000;stroke-width:0.8;\" x=\"313.794377\" xlink:href=\"#m1ed3bbccda\" y=\"224.64\"/>\r\n      </g>\r\n     </g>\r\n     <g id=\"text_6\">\r\n      <!-- 25 -->\r\n      <g transform=\"translate(308.295939 238.54)scale(0.1 -0.1)\">\r\n       <use xlink:href=\"#Consolas-Italic-50\"/>\r\n       <use x=\"54.980469\" xlink:href=\"#Consolas-Italic-53\"/>\r\n      </g>\r\n     </g>\r\n    </g>\r\n    <g id=\"xtick_7\">\r\n     <g id=\"line2d_7\">\r\n      <g>\r\n       <use style=\"stroke:#000000;stroke-width:0.8;\" x=\"366.270866\" xlink:href=\"#m1ed3bbccda\" y=\"224.64\"/>\r\n      </g>\r\n     </g>\r\n     <g id=\"text_7\">\r\n      <!-- 30 -->\r\n      <g transform=\"translate(360.772428 238.54)scale(0.1 -0.1)\">\r\n       <defs>\r\n        <path d=\"M 16.015625 -0.875 \r\nQ 12.203125 -0.875 8.875 -0.609375 \r\nQ 5.5625 -0.34375 2.984375 0.09375 \r\nL 4.5 7.515625 \r\nQ 7.375 7.03125 10.46875 6.765625 \r\nQ 13.578125 6.5 17.09375 6.5 \r\nQ 21.34375 6.5 24.5625 7.171875 \r\nQ 27.78125 7.859375 30.125 8.984375 \r\nQ 32.46875 10.109375 34 11.59375 \r\nQ 35.546875 13.09375 36.453125 14.671875 \r\nQ 37.359375 16.265625 37.71875 17.875 \r\nQ 38.09375 19.484375 38.09375 20.90625 \r\nQ 38.09375 23.046875 37.078125 24.625 \r\nQ 36.078125 26.21875 34.25 27.296875 \r\nQ 32.421875 28.375 29.8125 28.875 \r\nQ 27.203125 29.390625 24.03125 29.390625 \r\nL 16.703125 29.390625 \r\nL 18.109375 36.375 \r\nL 24.8125 36.375 \r\nQ 27.9375 36.375 30.828125 37.296875 \r\nQ 33.734375 38.234375 35.953125 40.015625 \r\nQ 38.1875 41.796875 39.5 44.359375 \r\nQ 40.828125 46.921875 40.828125 50.203125 \r\nQ 40.828125 53.859375 38.234375 55.59375 \r\nQ 35.640625 57.328125 30.515625 57.328125 \r\nQ 27.296875 57.328125 23.953125 56.6875 \r\nQ 20.609375 56.0625 16.5 54.78125 \r\nL 16.5 62.203125 \r\nQ 18.3125 62.796875 20.28125 63.25 \r\nQ 22.265625 63.71875 24.28125 64.03125 \r\nQ 26.3125 64.359375 28.234375 64.53125 \r\nQ 30.171875 64.703125 31.890625 64.703125 \r\nQ 36.375 64.703125 39.765625 63.765625 \r\nQ 43.171875 62.84375 45.40625 61.15625 \r\nQ 47.65625 59.46875 48.78125 57.09375 \r\nQ 49.90625 54.734375 49.90625 51.8125 \r\nQ 49.90625 49.65625 49.3125 47.15625 \r\nQ 48.734375 44.671875 47.1875 42.1875 \r\nQ 45.65625 39.703125 42.96875 37.375 \r\nQ 40.28125 35.0625 36.078125 33.296875 \r\nQ 38.375 32.859375 40.375 31.875 \r\nQ 42.390625 30.90625 43.890625 29.421875 \r\nQ 45.40625 27.9375 46.265625 25.90625 \r\nQ 47.125 23.875 47.125 21.390625 \r\nQ 47.125 19.046875 46.390625 16.484375 \r\nQ 45.65625 13.921875 44.109375 11.453125 \r\nQ 42.578125 8.984375 40.109375 6.734375 \r\nQ 37.640625 4.5 34.203125 2.8125 \r\nQ 30.765625 1.125 26.25 0.125 \r\nQ 21.734375 -0.875 16.015625 -0.875 \r\nz\r\n\" id=\"Consolas-Italic-51\"/>\r\n       </defs>\r\n       <use xlink:href=\"#Consolas-Italic-51\"/>\r\n       <use x=\"54.980469\" xlink:href=\"#Consolas-Italic-48\"/>\r\n      </g>\r\n     </g>\r\n    </g>\r\n   </g>\r\n   <g id=\"matplotlib.axis_2\">\r\n    <g id=\"ytick_1\">\r\n     <g id=\"line2d_8\">\r\n      <defs>\r\n       <path d=\"M 0 0 \r\nL -3.5 0 \r\n\" id=\"m14c00f9db5\" style=\"stroke:#000000;stroke-width:0.8;\"/>\r\n      </defs>\r\n      <g>\r\n       <use style=\"stroke:#000000;stroke-width:0.8;\" x=\"36.19375\" xlink:href=\"#m14c00f9db5\" y=\"201.305065\"/>\r\n      </g>\r\n     </g>\r\n     <g id=\"text_8\">\r\n      <!-- 1.86 -->\r\n      <g transform=\"translate(7.2 204.755065)scale(0.1 -0.1)\">\r\n       <defs>\r\n        <path d=\"M 23.78125 15.375 \r\nQ 25.53125 15.375 26.96875 14.734375 \r\nQ 28.421875 14.109375 29.4375 13.03125 \r\nQ 30.46875 11.96875 31.03125 10.515625 \r\nQ 31.59375 9.078125 31.59375 7.515625 \r\nQ 31.59375 5.765625 30.90625 4.21875 \r\nQ 30.21875 2.6875 29.078125 1.53125 \r\nQ 27.9375 0.390625 26.390625 -0.234375 \r\nQ 24.859375 -0.875 23.1875 -0.875 \r\nQ 21.484375 -0.875 20.0625 -0.234375 \r\nQ 18.65625 0.390625 17.59375 1.46875 \r\nQ 16.546875 2.546875 15.953125 3.9375 \r\nQ 15.375 5.328125 15.375 6.890625 \r\nQ 15.375 8.6875 16.0625 10.25 \r\nQ 16.75 11.8125 17.921875 12.9375 \r\nQ 19.09375 14.0625 20.609375 14.71875 \r\nQ 22.125 15.375 23.78125 15.375 \r\nz\r\n\" id=\"Consolas-Italic-46\"/>\r\n        <path d=\"M 29.390625 37.109375 \r\nQ 33.84375 39.3125 36.671875 41.015625 \r\nQ 39.5 42.71875 41.140625 44.3125 \r\nQ 42.78125 45.90625 43.390625 47.46875 \r\nQ 44 49.03125 44 50.875 \r\nQ 44 54.046875 41.5 55.828125 \r\nQ 39.015625 57.625 34.1875 57.625 \r\nQ 31.15625 57.625 28.65625 56.9375 \r\nQ 26.171875 56.25 24.359375 54.90625 \r\nQ 22.5625 53.5625 21.578125 51.578125 \r\nQ 20.609375 49.609375 20.609375 47.015625 \r\nQ 20.609375 45.609375 21.09375 44.328125 \r\nQ 21.578125 43.0625 22.625 41.890625 \r\nQ 23.6875 40.71875 25.359375 39.546875 \r\nQ 27.046875 38.375 29.390625 37.109375 \r\nz\r\nM 37.203125 33.296875 \r\nQ 42.234375 30.515625 44.921875 26.96875 \r\nQ 47.609375 23.4375 47.609375 18.609375 \r\nQ 47.609375 14.84375 46 11.328125 \r\nQ 44.390625 7.8125 41.1875 5.09375 \r\nQ 37.984375 2.390625 33.21875 0.75 \r\nQ 28.46875 -0.875 22.125 -0.875 \r\nQ 17.4375 -0.875 13.96875 0.171875 \r\nQ 10.5 1.21875 8.21875 3.046875 \r\nQ 5.953125 4.890625 4.828125 7.421875 \r\nQ 3.71875 9.96875 3.71875 12.984375 \r\nQ 3.71875 15.71875 4.5 18.203125 \r\nQ 5.28125 20.703125 7.203125 23.09375 \r\nQ 9.125 25.484375 12.390625 27.84375 \r\nQ 15.671875 30.21875 20.703125 32.8125 \r\nQ 16.109375 35.359375 13.859375 38.59375 \r\nQ 11.625 41.84375 11.625 46.09375 \r\nQ 11.625 49.609375 13.078125 52.96875 \r\nQ 14.546875 56.34375 17.5 58.9375 \r\nQ 20.453125 61.53125 24.890625 63.109375 \r\nQ 29.34375 64.703125 35.296875 64.703125 \r\nQ 39.75 64.703125 43.0625 63.765625 \r\nQ 46.390625 62.84375 48.578125 61.15625 \r\nQ 50.78125 59.46875 51.875 57.09375 \r\nQ 52.984375 54.734375 52.984375 51.90625 \r\nQ 52.984375 49.265625 52.25 46.921875 \r\nQ 51.515625 44.578125 49.734375 42.3125 \r\nQ 47.953125 40.046875 44.890625 37.84375 \r\nQ 41.84375 35.640625 37.203125 33.296875 \r\nz\r\nM 28.515625 29 \r\nQ 23.78125 26.859375 20.75 25.078125 \r\nQ 17.71875 23.296875 15.953125 21.5625 \r\nQ 14.203125 19.828125 13.546875 17.984375 \r\nQ 12.890625 16.15625 12.890625 13.921875 \r\nQ 12.890625 10.109375 15.671875 8.25 \r\nQ 18.453125 6.390625 23.578125 6.390625 \r\nQ 26.421875 6.390625 29.078125 7.125 \r\nQ 31.734375 7.859375 33.8125 9.265625 \r\nQ 35.890625 10.6875 37.125 12.765625 \r\nQ 38.375 14.84375 38.375 17.484375 \r\nQ 38.375 19 37.859375 20.484375 \r\nQ 37.359375 21.96875 36.203125 23.390625 \r\nQ 35.0625 24.8125 33.171875 26.203125 \r\nQ 31.296875 27.59375 28.515625 29 \r\nz\r\n\" id=\"Consolas-Italic-56\"/>\r\n        <path d=\"M 49.3125 24.609375 \r\nQ 49.3125 19.4375 47.359375 14.796875 \r\nQ 45.40625 10.15625 41.90625 6.6875 \r\nQ 38.421875 3.21875 33.5625 1.171875 \r\nQ 28.71875 -0.875 22.90625 -0.875 \r\nQ 14.5 -0.875 10 3.765625 \r\nQ 5.515625 8.40625 5.515625 18.015625 \r\nQ 5.515625 20.609375 5.828125 23.953125 \r\nQ 6.15625 27.296875 6.9375 31 \r\nQ 7.71875 34.71875 9.109375 38.59375 \r\nQ 10.5 42.484375 12.671875 46.109375 \r\nQ 14.84375 49.75 17.890625 52.96875 \r\nQ 20.953125 56.203125 25.03125 58.609375 \r\nQ 29.109375 61.03125 34.34375 62.421875 \r\nQ 39.59375 63.8125 46.1875 63.8125 \r\nL 52.78125 63.8125 \r\nL 51.3125 56.390625 \r\nL 44.828125 56.390625 \r\nQ 38.375 56.390625 33.765625 54.78125 \r\nQ 29.15625 53.171875 25.921875 50.40625 \r\nQ 22.703125 47.65625 20.703125 43.984375 \r\nQ 18.703125 40.328125 17.484375 36.28125 \r\nL 17.09375 35.40625 \r\nQ 20.5625 37.109375 24.40625 38.203125 \r\nQ 28.265625 39.3125 32.171875 39.3125 \r\nQ 36.625 39.3125 39.859375 38.234375 \r\nQ 43.109375 37.15625 45.203125 35.203125 \r\nQ 47.3125 33.25 48.3125 30.5625 \r\nQ 49.3125 27.875 49.3125 24.609375 \r\nz\r\nM 40.375 23.78125 \r\nQ 40.375 27.9375 38 30.171875 \r\nQ 35.640625 32.421875 30.609375 32.421875 \r\nQ 28.65625 32.421875 26.609375 32.046875 \r\nQ 24.5625 31.6875 22.578125 31.078125 \r\nQ 20.609375 30.46875 18.75 29.65625 \r\nQ 16.890625 28.859375 15.375 27.984375 \r\nQ 14.796875 25.734375 14.546875 23.046875 \r\nQ 14.3125 20.359375 14.3125 17.828125 \r\nQ 14.3125 14.453125 14.96875 12.203125 \r\nQ 15.625 9.96875 16.859375 8.625 \r\nQ 18.109375 7.28125 19.9375 6.6875 \r\nQ 21.78125 6.109375 24.125 6.109375 \r\nQ 27.875 6.109375 30.90625 7.609375 \r\nQ 33.9375 9.125 36.03125 11.609375 \r\nQ 38.140625 14.109375 39.25 17.28125 \r\nQ 40.375 20.453125 40.375 23.78125 \r\nz\r\n\" id=\"Consolas-Italic-54\"/>\r\n       </defs>\r\n       <use xlink:href=\"#Consolas-Italic-49\"/>\r\n       <use x=\"54.980469\" xlink:href=\"#Consolas-Italic-46\"/>\r\n       <use x=\"109.960938\" xlink:href=\"#Consolas-Italic-56\"/>\r\n       <use x=\"164.941406\" xlink:href=\"#Consolas-Italic-54\"/>\r\n      </g>\r\n     </g>\r\n    </g>\r\n    <g id=\"ytick_2\">\r\n     <g id=\"line2d_9\">\r\n      <g>\r\n       <use style=\"stroke:#000000;stroke-width:0.8;\" x=\"36.19375\" xlink:href=\"#m14c00f9db5\" y=\"174.977956\"/>\r\n      </g>\r\n     </g>\r\n     <g id=\"text_9\">\r\n      <!-- 1.88 -->\r\n      <g transform=\"translate(7.2 178.427956)scale(0.1 -0.1)\">\r\n       <use xlink:href=\"#Consolas-Italic-49\"/>\r\n       <use x=\"54.980469\" xlink:href=\"#Consolas-Italic-46\"/>\r\n       <use x=\"109.960938\" xlink:href=\"#Consolas-Italic-56\"/>\r\n       <use x=\"164.941406\" xlink:href=\"#Consolas-Italic-56\"/>\r\n      </g>\r\n     </g>\r\n    </g>\r\n    <g id=\"ytick_3\">\r\n     <g id=\"line2d_10\">\r\n      <g>\r\n       <use style=\"stroke:#000000;stroke-width:0.8;\" x=\"36.19375\" xlink:href=\"#m14c00f9db5\" y=\"148.650847\"/>\r\n      </g>\r\n     </g>\r\n     <g id=\"text_10\">\r\n      <!-- 1.90 -->\r\n      <g transform=\"translate(7.2 152.100847)scale(0.1 -0.1)\">\r\n       <defs>\r\n        <path d=\"M 52 45.515625 \r\nQ 52 43.109375 51.734375 39.890625 \r\nQ 51.46875 36.671875 50.6875 33 \r\nQ 49.90625 29.34375 48.515625 25.484375 \r\nQ 47.125 21.625 44.890625 17.96875 \r\nQ 42.671875 14.3125 39.515625 11.03125 \r\nQ 36.375 7.765625 32.046875 5.3125 \r\nQ 27.734375 2.875 22.171875 1.4375 \r\nQ 16.609375 0 9.515625 0 \r\nL 3.8125 0 \r\nL 5.328125 7.421875 \r\nL 10.203125 7.421875 \r\nQ 16.75 7.421875 21.828125 8.9375 \r\nQ 26.90625 10.453125 30.609375 13.109375 \r\nQ 34.328125 15.765625 36.71875 19.453125 \r\nQ 39.109375 23.140625 40.28125 27.484375 \r\nL 40.578125 28.421875 \r\nQ 37.25 26.703125 33.46875 25.609375 \r\nQ 29.6875 24.515625 25.59375 24.515625 \r\nQ 20.75 24.515625 17.453125 25.734375 \r\nQ 14.15625 26.953125 12.109375 29 \r\nQ 10.0625 31.0625 9.171875 33.734375 \r\nQ 8.296875 36.421875 8.296875 39.3125 \r\nQ 8.296875 44.234375 10.15625 48.828125 \r\nQ 12.015625 53.421875 15.421875 56.9375 \r\nQ 18.84375 60.453125 23.703125 62.578125 \r\nQ 28.5625 64.703125 34.625 64.703125 \r\nQ 42.875 64.703125 47.4375 60.03125 \r\nQ 52 55.375 52 45.515625 \r\nz\r\nM 33.40625 57.71875 \r\nQ 29.4375 57.71875 26.40625 56.109375 \r\nQ 23.390625 54.5 21.328125 51.984375 \r\nQ 19.28125 49.46875 18.234375 46.3125 \r\nQ 17.1875 43.171875 17.1875 40.09375 \r\nQ 17.1875 38.484375 17.640625 36.921875 \r\nQ 18.109375 35.359375 19.25 34.125 \r\nQ 20.40625 32.90625 22.328125 32.140625 \r\nQ 24.265625 31.390625 27.203125 31.390625 \r\nQ 29.15625 31.390625 31.203125 31.734375 \r\nQ 33.25 32.078125 35.203125 32.65625 \r\nQ 37.15625 33.25 38.9375 34.03125 \r\nQ 40.71875 34.8125 42.1875 35.6875 \r\nQ 42.71875 38.28125 42.96875 41.109375 \r\nQ 43.21875 43.953125 43.21875 46.296875 \r\nQ 43.21875 49.515625 42.546875 51.703125 \r\nQ 41.890625 53.90625 40.640625 55.21875 \r\nQ 39.40625 56.546875 37.578125 57.125 \r\nQ 35.75 57.71875 33.40625 57.71875 \r\nz\r\n\" id=\"Consolas-Italic-57\"/>\r\n       </defs>\r\n       <use xlink:href=\"#Consolas-Italic-49\"/>\r\n       <use x=\"54.980469\" xlink:href=\"#Consolas-Italic-46\"/>\r\n       <use x=\"109.960938\" xlink:href=\"#Consolas-Italic-57\"/>\r\n       <use x=\"164.941406\" xlink:href=\"#Consolas-Italic-48\"/>\r\n      </g>\r\n     </g>\r\n    </g>\r\n    <g id=\"ytick_4\">\r\n     <g id=\"line2d_11\">\r\n      <g>\r\n       <use style=\"stroke:#000000;stroke-width:0.8;\" x=\"36.19375\" xlink:href=\"#m14c00f9db5\" y=\"122.323737\"/>\r\n      </g>\r\n     </g>\r\n     <g id=\"text_11\">\r\n      <!-- 1.92 -->\r\n      <g transform=\"translate(7.2 125.773737)scale(0.1 -0.1)\">\r\n       <use xlink:href=\"#Consolas-Italic-49\"/>\r\n       <use x=\"54.980469\" xlink:href=\"#Consolas-Italic-46\"/>\r\n       <use x=\"109.960938\" xlink:href=\"#Consolas-Italic-57\"/>\r\n       <use x=\"164.941406\" xlink:href=\"#Consolas-Italic-50\"/>\r\n      </g>\r\n     </g>\r\n    </g>\r\n    <g id=\"ytick_5\">\r\n     <g id=\"line2d_12\">\r\n      <g>\r\n       <use style=\"stroke:#000000;stroke-width:0.8;\" x=\"36.19375\" xlink:href=\"#m14c00f9db5\" y=\"95.996628\"/>\r\n      </g>\r\n     </g>\r\n     <g id=\"text_12\">\r\n      <!-- 1.94 -->\r\n      <g transform=\"translate(7.2 99.446628)scale(0.1 -0.1)\">\r\n       <defs>\r\n        <path d=\"M 50.203125 14.109375 \r\nL 39.3125 14.109375 \r\nL 36.53125 0 \r\nL 27.78125 0 \r\nL 30.609375 14.109375 \r\nL -0.09375 14.109375 \r\nL 1.421875 21.578125 \r\nL 36.28125 63.8125 \r\nL 49.3125 63.8125 \r\nL 40.828125 21.578125 \r\nL 51.703125 21.578125 \r\nz\r\nM 38.921875 55.609375 \r\nL 10.59375 21.578125 \r\nL 32.078125 21.578125 \r\nz\r\n\" id=\"Consolas-Italic-52\"/>\r\n       </defs>\r\n       <use xlink:href=\"#Consolas-Italic-49\"/>\r\n       <use x=\"54.980469\" xlink:href=\"#Consolas-Italic-46\"/>\r\n       <use x=\"109.960938\" xlink:href=\"#Consolas-Italic-57\"/>\r\n       <use x=\"164.941406\" xlink:href=\"#Consolas-Italic-52\"/>\r\n      </g>\r\n     </g>\r\n    </g>\r\n    <g id=\"ytick_6\">\r\n     <g id=\"line2d_13\">\r\n      <g>\r\n       <use style=\"stroke:#000000;stroke-width:0.8;\" x=\"36.19375\" xlink:href=\"#m14c00f9db5\" y=\"69.669519\"/>\r\n      </g>\r\n     </g>\r\n     <g id=\"text_13\">\r\n      <!-- 1.96 -->\r\n      <g transform=\"translate(7.2 73.119519)scale(0.1 -0.1)\">\r\n       <use xlink:href=\"#Consolas-Italic-49\"/>\r\n       <use x=\"54.980469\" xlink:href=\"#Consolas-Italic-46\"/>\r\n       <use x=\"109.960938\" xlink:href=\"#Consolas-Italic-57\"/>\r\n       <use x=\"164.941406\" xlink:href=\"#Consolas-Italic-54\"/>\r\n      </g>\r\n     </g>\r\n    </g>\r\n    <g id=\"ytick_7\">\r\n     <g id=\"line2d_14\">\r\n      <g>\r\n       <use style=\"stroke:#000000;stroke-width:0.8;\" x=\"36.19375\" xlink:href=\"#m14c00f9db5\" y=\"43.34241\"/>\r\n      </g>\r\n     </g>\r\n     <g id=\"text_14\">\r\n      <!-- 1.98 -->\r\n      <g transform=\"translate(7.2 46.79241)scale(0.1 -0.1)\">\r\n       <use xlink:href=\"#Consolas-Italic-49\"/>\r\n       <use x=\"54.980469\" xlink:href=\"#Consolas-Italic-46\"/>\r\n       <use x=\"109.960938\" xlink:href=\"#Consolas-Italic-57\"/>\r\n       <use x=\"164.941406\" xlink:href=\"#Consolas-Italic-56\"/>\r\n      </g>\r\n     </g>\r\n    </g>\r\n    <g id=\"ytick_8\">\r\n     <g id=\"line2d_15\">\r\n      <g>\r\n       <use style=\"stroke:#000000;stroke-width:0.8;\" x=\"36.19375\" xlink:href=\"#m14c00f9db5\" y=\"17.0153\"/>\r\n      </g>\r\n     </g>\r\n     <g id=\"text_15\">\r\n      <!-- 2.00 -->\r\n      <g transform=\"translate(7.2 20.4653)scale(0.1 -0.1)\">\r\n       <use xlink:href=\"#Consolas-Italic-50\"/>\r\n       <use x=\"54.980469\" xlink:href=\"#Consolas-Italic-46\"/>\r\n       <use x=\"109.960938\" xlink:href=\"#Consolas-Italic-48\"/>\r\n       <use x=\"164.941406\" xlink:href=\"#Consolas-Italic-48\"/>\r\n      </g>\r\n     </g>\r\n    </g>\r\n   </g>\r\n   <g id=\"line2d_16\">\r\n    <path clip-path=\"url(#p305e600c90)\" d=\"M 51.411932 17.083636 \r\nL 61.90723 17.644827 \r\nL 72.402527 18.62525 \r\nL 82.897825 24.198515 \r\nL 93.393123 22.378642 \r\nL 103.888421 18.029177 \r\nL 114.383719 17.609394 \r\nL 124.879016 22.468865 \r\nL 135.374314 19.53484 \r\nL 145.869612 25.743759 \r\nL 156.36491 25.402232 \r\nL 166.860208 26.289079 \r\nL 177.355505 34.945346 \r\nL 187.850803 24.511383 \r\nL 198.346101 36.097222 \r\nL 208.841399 38.78837 \r\nL 219.336697 36.25524 \r\nL 229.831995 29.967384 \r\nL 240.327292 29.846412 \r\nL 250.82259 23.877169 \r\nL 261.317888 41.612696 \r\nL 271.813186 60.076642 \r\nL 282.308484 99.122032 \r\nL 292.803781 106.536037 \r\nL 303.299079 50.77009 \r\nL 313.794377 39.169168 \r\nL 324.289675 71.584707 \r\nL 334.784973 32.637919 \r\nL 345.28027 214.756364 \r\nL 355.775568 110.429036 \r\n\" style=\"fill:none;stroke:#1f77b4;stroke-linecap:square;stroke-width:1.5;\"/>\r\n   </g>\r\n   <g id=\"patch_3\">\r\n    <path d=\"M 36.19375 224.64 \r\nL 36.19375 7.2 \r\n\" style=\"fill:none;stroke:#000000;stroke-linecap:square;stroke-linejoin:miter;stroke-width:0.8;\"/>\r\n   </g>\r\n   <g id=\"patch_4\">\r\n    <path d=\"M 370.99375 224.64 \r\nL 370.99375 7.2 \r\n\" style=\"fill:none;stroke:#000000;stroke-linecap:square;stroke-linejoin:miter;stroke-width:0.8;\"/>\r\n   </g>\r\n   <g id=\"patch_5\">\r\n    <path d=\"M 36.19375 224.64 \r\nL 370.99375 224.64 \r\n\" style=\"fill:none;stroke:#000000;stroke-linecap:square;stroke-linejoin:miter;stroke-width:0.8;\"/>\r\n   </g>\r\n   <g id=\"patch_6\">\r\n    <path d=\"M 36.19375 7.2 \r\nL 370.99375 7.2 \r\n\" style=\"fill:none;stroke:#000000;stroke-linecap:square;stroke-linejoin:miter;stroke-width:0.8;\"/>\r\n   </g>\r\n  </g>\r\n </g>\r\n <defs>\r\n  <clipPath id=\"p305e600c90\">\r\n   <rect height=\"217.44\" width=\"334.8\" x=\"36.19375\" y=\"7.2\"/>\r\n  </clipPath>\r\n </defs>\r\n</svg>\r\n",
      "image/png": "[encoded data removed]"
     },
     "metadata": {
      "needs_background": "light"
     }
    }
   ],
   "source": [
    "Pop_size = 1000\n",
    "chomosome_size = 200\n",
    "n = 2 #变量的个数\n",
    "chomosome_length = int(chomosome_size/n)\n",
    "mutation_rate = 0.1\n",
    "loop = 30\n",
    "RecycleResult = []\n",
    "population = species_origin(Pop_size,chomosome_length)\n",
    "xcoor = []\n",
    "ycoor = []\n",
    "# print('产生的种群:',population)\n",
    "for i in range(loop):\n",
    "    population_trans = translatior(population,chomosome_length)\n",
    "    # print('基因编码转换为10进制:',population_trans)\n",
    "    AdaptValue = AdaptFunc(population_trans,chomosome_length)\n",
    "    RecycleResult.append(max(AdaptValue))\n",
    "    # print('计算种群的适应值:',AdaptValue)\n",
    "    chooseProbability = choose_probability(AdaptValue)\n",
    "    CumulativeProbability = Cumulative_Probability(chooseProbability)\n",
    "    # print('种群的累积概率分布:',CumulativeProbability)\n",
    "    newPop=selection(population,CumulativeProbability)\n",
    "    # print('产生的新种群',newPop)\n",
    "    population = crossover(newPop,chomosome_length)\n",
    "    # print('交叉操作后:',population)\n",
    "    population = mutation(population,mutation_rate)\n",
    "    # print('变异操作:',population)\n",
    "print(RecycleResult)\n",
    "plt.plot([i for i in range(len(RecycleResult))],RecycleResult)"
   ]
  },
  {
   "cell_type": "code",
   "execution_count": null,
   "metadata": {},
   "outputs": [],
   "source": []
  }
 ]
}