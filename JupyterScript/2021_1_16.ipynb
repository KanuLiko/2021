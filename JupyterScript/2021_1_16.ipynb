{
 "metadata": {
  "language_info": {
   "codemirror_mode": {
    "name": "ipython",
    "version": 3
   },
   "file_extension": ".py",
   "mimetype": "text/x-python",
   "name": "python",
   "nbconvert_exporter": "python",
   "pygments_lexer": "ipython3",
   "version": "3.8.7-final"
  },
  "orig_nbformat": 2,
  "kernelspec": {
   "name": "python3",
   "display_name": "Python 3.8.7 64-bit",
   "metadata": {
    "interpreter": {
     "hash": "1baa965d5efe3ac65b79dfc60c0d706280b1da80fedb7760faf2759126c4f253"
    }
   }
  }
 },
 "nbformat": 4,
 "nbformat_minor": 2,
 "cells": [
  {
   "cell_type": "code",
   "execution_count": 6,
   "metadata": {
    "tags": []
   },
   "outputs": [
    {
     "output_type": "stream",
     "name": "stdout",
     "text": [
      "{\n  \"args\": {}, \n  \"data\": \"\", \n  \"files\": {}, \n  \"form\": {\n    \"hello\": \"world\"\n  }, \n  \"headers\": {\n    \"Accept-Encoding\": \"identity\", \n    \"Content-Length\": \"11\", \n    \"Content-Type\": \"application/x-www-form-urlencoded\", \n    \"Host\": \"www.httpbin.org\", \n    \"User-Agent\": \"Python-urllib/3.8\", \n    \"X-Amzn-Trace-Id\": \"Root=1-60030772-655f3c2b682fea332dac727c\"\n  }, \n  \"json\": null, \n  \"origin\": \"219.78.103.76\", \n  \"url\": \"http://www.httpbin.org/post\"\n}\n\n"
     ]
    }
   ],
   "source": [
    "import urllib\n",
    "import urllib.parse\n",
    "#get - method1\n",
    "# response = urllib.request.urlopen('https://www.baidu.com')\n",
    "# print(response.read().decode('utf-8')) #对获取的网页进行utf-8解码\n",
    "#post - method2 httpbin.org\n",
    "data = bytes(urllib.parse.urlencode({\"hello\":\"world\"}),encoding='utf-8')\n",
    "postresponse = urllib.request.urlopen('http://www.httpbin.org/post',data=data)\n",
    "print(postresponse.read().decode('utf-8'))"
   ]
  },
  {
   "cell_type": "code",
   "execution_count": 14,
   "metadata": {},
   "outputs": [],
   "source": [
    "import urllib\n",
    "# try:\n",
    "#     getresponse = urllib.request.urlopen('http://www.httpbin.org/get',timeout=0.01)\n",
    "#     print(getresponse.read().decode('utf-8'))\n",
    "# except urllib.error.URLError as e:\n",
    "#     print(\"time out!\")"
   ]
  },
  {
   "cell_type": "code",
   "execution_count": 16,
   "metadata": {},
   "outputs": [
    {
     "output_type": "stream",
     "name": "stdout",
     "text": [
      "200\n"
     ]
    }
   ],
   "source": [
    "getresponse = urllib.request.urlopen('http://www.httpbin.org/get')\n",
    "print(getresponse.status)"
   ]
  },
  {
   "cell_type": "code",
   "execution_count": 18,
   "metadata": {},
   "outputs": [],
   "source": [
    "# response = urllib.request.urlopen(\"http://douban.com\")\n",
    "# print(reponse.status)\n",
    "#error 418 证明对方知道你是一个查重"
   ]
  },
  {
   "cell_type": "code",
   "execution_count": 24,
   "metadata": {},
   "outputs": [
    {
     "output_type": "stream",
     "name": "stdout",
     "text": [
      "[('Connection', 'close'), ('Transfer-Encoding', 'chunked'), ('Bdpagetype', '1'), ('Bdqid', '0x81457e740010454c'), ('Cache-Control', 'private'), ('Content-Type', 'text/html;charset=utf-8'), ('Date', 'Sat, 16 Jan 2021 15:54:26 GMT'), ('Expires', 'Sat, 16 Jan 2021 15:54:13 GMT'), ('P3p', 'CP=\" OTI DSP COR IVA OUR IND COM \"'), ('P3p', 'CP=\" OTI DSP COR IVA OUR IND COM \"'), ('Server', 'BWS/1.1'), ('Set-Cookie', 'BAIDUID=37101F11D0D5996E9E2BAE2CE635C983:FG=1; expires=Thu, 31-Dec-37 23:55:55 GMT; max-age=2147483647; path=/; domain=.baidu.com'), ('Set-Cookie', 'BIDUPSID=37101F11D0D5996E9E2BAE2CE635C983; expires=Thu, 31-Dec-37 23:55:55 GMT; max-age=2147483647; path=/; domain=.baidu.com'), ('Set-Cookie', 'PSTM=1610812466; expires=Thu, 31-Dec-37 23:55:55 GMT; max-age=2147483647; path=/; domain=.baidu.com'), ('Set-Cookie', 'BAIDUID=37101F11D0D5996E3BDCAA15737C7DDD:FG=1; max-age=31536000; expires=Sun, 16-Jan-22 15:54:26 GMT; domain=.baidu.com; path=/; version=1; comment=bd'), ('Set-Cookie', 'BDSVRTM=0; path=/'), ('Set-Cookie', 'BD_HOME=1; path=/'), ('Set-Cookie', 'H_PS_PSSID=; path=/; domain=.baidu.com'), ('Traceid', '161081246605563010669314990440968111436'), ('Vary', 'Accept-Encoding'), ('Vary', 'Accept-Encoding'), ('X-Ua-Compatible', 'IE=Edge,chrome=1')]\n"
     ]
    }
   ],
   "source": [
    "response = urllib.request.urlopen(\"http://www.baidu.com\")\n",
    "print(response.getheaders())"
   ]
  },
  {
   "cell_type": "code",
   "execution_count": null,
   "metadata": {},
   "outputs": [],
   "source": []
  }
 ]
}