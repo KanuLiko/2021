{
 "metadata": {
  "language_info": {
   "codemirror_mode": {
    "name": "ipython",
    "version": 3
   },
   "file_extension": ".py",
   "mimetype": "text/x-python",
   "name": "python",
   "nbconvert_exporter": "python",
   "pygments_lexer": "ipython3",
   "version": "3.8.7-final"
  },
  "orig_nbformat": 2,
  "kernelspec": {
   "name": "python3",
   "display_name": "Python 3.8.7 64-bit",
   "metadata": {
    "interpreter": {
     "hash": "1baa965d5efe3ac65b79dfc60c0d706280b1da80fedb7760faf2759126c4f253"
    }
   }
  }
 },
 "nbformat": 4,
 "nbformat_minor": 2,
 "cells": [
  {
   "cell_type": "code",
   "execution_count": null,
   "metadata": {
    "tags": []
   },
   "outputs": [],
   "source": [
    "import urllib\n",
    "import urllib.parse\n",
    "#get - method1\n",
    "# response = urllib.request.urlopen('https://www.baidu.com')\n",
    "# print(response.read().decode('utf-8')) #对获取的网页进行utf-8解码\n",
    "#post - method2 httpbin.org\n",
    "data = bytes(urllib.parse.urlencode({\"hello\":\"world\"}),encoding='utf-8')\n",
    "postresponse = urllib.request.urlopen('http://www.httpbin.org/post',data=data)\n",
    "print(postresponse.read().decode('utf-8'))"
   ]
  },
  {
   "cell_type": "code",
   "execution_count": 2,
   "metadata": {},
   "outputs": [],
   "source": [
    "import urllib\n",
    "# try:\n",
    "#     getresponse = urllib.request.urlopen('http://www.httpbin.org/get',timeout=0.01)\n",
    "#     print(getresponse.read().decode('utf-8'))\n",
    "# except urllib.error.URLError as e:\n",
    "#     print(\"time out!\")"
   ]
  },
  {
   "cell_type": "code",
   "execution_count": 3,
   "metadata": {},
   "outputs": [
    {
     "output_type": "stream",
     "name": "stdout",
     "text": [
      "200\n"
     ]
    }
   ],
   "source": [
    "getresponse = urllib.request.urlopen('http://www.httpbin.org/get')\n",
    "print(getresponse.status)"
   ]
  },
  {
   "cell_type": "code",
   "execution_count": 4,
   "metadata": {},
   "outputs": [],
   "source": [
    "# response = urllib.request.urlopen(\"http://douban.com\")\n",
    "# print(reponse.status)\n",
    "#error 418 证明对方知道你是一个查重"
   ]
  },
  {
   "cell_type": "code",
   "execution_count": 5,
   "metadata": {},
   "outputs": [
    {
     "output_type": "stream",
     "name": "stdout",
     "text": [
      "BWS/1.1\n"
     ]
    }
   ],
   "source": [
    "response = urllib.request.urlopen(\"http://www.baidu.com\")\n",
    "print(response.getheader(\"Server\"))"
   ]
  },
  {
   "cell_type": "code",
   "execution_count": 8,
   "metadata": {},
   "outputs": [
    {
     "output_type": "stream",
     "name": "stdout",
     "text": [
      "<!doctype html>\n<html lang=\"en\">\n<head>\n<meta charset=\"utf-8\" />\n<title></title>\n<link rel=\"stylesheet\" href=\"//dragonstatic.com/parking/css/native.css\" type=\"text/css\" media=\"screen\" />\n<script type=\"059d933767d5ef4a81979b6e-text/javascript\" src=\"//dragonstatic.com/parking/js/track.js?v=190929\"></script>\n<script type=\"059d933767d5ef4a81979b6e-text/javascript\">var pageinfo = {ad:1};</script>\n<script type=\"059d933767d5ef4a81979b6e-text/javascript\" src=\"//dragonstatic.com/parking/js/native.js?v=201206\"></script>\n\n</head>\n<body>\n<div id='root'></div>\n<script src=\"https://ajax.cloudflare.com/cdn-cgi/scripts/7089c43e/cloudflare-static/rocket-loader.min.js\" data-cf-settings=\"059d933767d5ef4a81979b6e-|49\" defer=\"\"></script></body>\n</html>\n\n"
     ]
    }
   ],
   "source": [
    "url2 = \"http://httpbin.org/post\"\n",
    "headers = {\n",
    "    \"User-Agent\": \"Mozilla/5.0 (Windows NT 10.0; Win64; x64) AppleWebKit/537.36 (KHTML, like Gecko) Chrome/87.0.4280.141 Safari/537.36 Edg/87.0.664.75\"\n",
    "}\n",
    "data = bytes(urllib.parse.urlencode({\"name\":\"Eric\"}),encoding=\"utf-8\")\n",
    "req = urllib.request.Request(url=url,data=data,headers=headers,method =\"POST\")\n",
    "res = urllib.request.urlopen(req)\n",
    "print(res.read().decode(\"utf-8\"))"
   ]
  },
  {
   "cell_type": "code",
   "execution_count": 9,
   "metadata": {},
   "outputs": [
    {
     "output_type": "stream",
     "name": "stdout",
     "text": [
      "<!DOCTYPE html><html data-adblockkey=\"MFwwDQYJKoZIhvcNAQEBBQADSwAwSAJBANDrp2lz7AOmADaN8tA50LsWcjLFyQFcb/P2Txc58oYOeILb3vBw7J6f4pamkAQVSQuqYsKx3YzdUHCvbVZvFUsCAwEAAQ==_m03SKooon2mopHAMPek9H6B2+rng2YoCq9vX8nWjgoLHN7+dVEM56JL6xHmifeporw4PG49tmDn6JM1QYwbU0Q==\"><head><meta http-equiv=\"Content-Type\" content=\"text/html; charset=utf-8\"><title></title><meta name=\"viewport\" content=\"width=device-width, initial-scale=1\"><meta name=\"description\" content=\"See related links to what you are looking for.\"/></head><!--[if IE 6 ]><body class=\"ie6\"><![endif]--><!--[if IE 7 ]><body class=\"ie7\"><![endif]--><!--[if IE 8 ]><body class=\"ie8\"><![endif]--><!--[if IE 9 ]><body class=\"ie9\"><![endif]--><!--[if (gt IE 9)|!(IE)]> --><body><!--<![endif]--><script type=\"text/javascript\">g_pb=(function(){var\nDT=document,azx=location,DD=DT.createElement('script'),aAC=false,LU;DD.defer=true;DD.async=true;DD.src=\"//www.google.com/adsense/domains/caf.js\";DD.onerror=function(){if(azx.search!=='?z'){azx.href='/?z';}};DD.onload=DD.onreadystatechange=function(){if(!aAC&&LU){if(!window['googleNDT_']){}\nLU(google.ads.domains.Caf);}\naAC=true;};DT.body.appendChild(DD);return{azm:function(n$){if(aAC)\nn$(google.ads.domains.Caf);else\nLU=n$;},bq:function(){if(!aAC){DT.body.removeChild(DD);}}};})();g_pd=(function(){var\nazx=window.location,nw={},bH,azw=azx.search.substring(1),aAv,aAw;if(!azw)\nreturn nw;aAv=azw.split(\"&\");for(bH=0;bH<aAv.length;bH++){aAw=aAv[bH].split('=');nw[aAw[0]]=aAw[1]?aAw[1]:\"\";}\nreturn nw;})();g_pc=(function(){var $is_ABP_whitelisted=null;var $Image1=new Image;var $Image2=new Image;var $error1=false;var $error2=false;var $remaining=2;var $random=Math.random()*11;function $imageLoaded(){$remaining--;if($remaining===0)\n$is_ABP_whitelisted=!$error1&&$error2;}\n$Image1.onload=$Image2.onload=$imageLoaded;$Image1.onerror=function(){$error1=true;$imageLoaded();};$Image2.onerror=function(){$error2=true;$imageLoaded();};$Image1.src='/px.gif?ch=1&rn='+$random;$Image2.src='/px.gif?ch=2&rn='+$random;return{azo:function(){return'&abp='+($is_ABP_whitelisted?'1':'0');},$isWhitelisted:function(){return $is_ABP_whitelisted;},$onReady:function($callback){function $poll(){if($is_ABP_whitelisted===null)\nsetTimeout($poll,100);else $callback();}\n$poll();}}})();(function(){var aAo=screen,Rr=window,azx=Rr.location,aAB=top.location,DT=document,Sf=DT.body||DT.getElementsByTagName('body')[0],aAy=0,aAx=0,aAz=0,$IE=null;if(Sf.className==='ie6')\n$IE=6;else if(Sf.className==='ie7')\n$IE=7;else if(Sf.className==='ie8')\n$IE=8;else if(Sf.className==='ie9')\n$IE=9;function aAu($callback){aAz++;aAy=Rr.innerWidth||DT.documentElement.clientWidth||Sf.clientWidth;aAx=Rr.innerHeight||DT.documentElement.clientHeight||Sf.clientHeight;if(aAy>0||aAz>=5){$callback();}\nelse{setTimeout(aAu,100);}}\nvar $num_requirements=2;function $requirementMet(){$num_requirements--;if($num_requirements===0)\naAA();}\naAu($requirementMet);g_pc.$onReady($requirementMet);function aAA(){var ef=undefined,IQ=encodeURIComponent,aAt;if(aAB!=azx&&g_pd.r_s===ef)\naAB.href=azx.href;aAt=DT.createElement('script');aAt.type='text/javascript';aAt.src='/glp'+'?r='+(g_pd.r!==ef?g_pd.r:(DT.referrer?IQ(DT.referrer.substr(0,255)):''))+\n(g_pd.r_u?'&u='+g_pd.r_u:'&u='+IQ(azx.href.split('?')[0]))+\n(g_pd.gc?'&gc='+g_pd.gc:'')+\n(g_pd.cid?'&cid='+g_pd.cid:'')+\n(g_pd.query?'&sq='+g_pd.query:'')+\n(g_pd.search?'&ss=1':'')+\n(g_pd.a!==ef?'&a':'')+\n(g_pd.z!==ef?'&z':'')+\n(g_pd.z_ds!==ef?'&z_ds':'')+\n(g_pd.r_s!==ef?'&r_s='+g_pd.r_s:'')+\n(g_pd.r_d!==ef?'&r_d='+g_pd.r_d:'')+'&rw='+aAo.width+'&rh='+aAo.height+\n(g_pd.r_ww!==ef?'&ww='+g_pd.r_ww:'&ww='+aAy)+\n(g_pd.r_wh!==ef?'&wh='+g_pd.r_wh:'&wh='+aAx)+\n(g_pd.ref_keyword!==ef?'&ref_keyword='+g_pd.ref_keyword:'')+\n(g_pc.$isWhitelisted()?'&abp=1':'')+\n($IE!==null?'&ie='+$IE:'')+\n(g_pd.partner!==ef?'&partner='+g_pd.partner:'')+\n(g_pd.subid1!==ef?'&subid1='+g_pd.subid1:'')+\n(g_pd.subid2!==ef?'&subid2='+g_pd.subid2:'')+\n(g_pd.subid3!==ef?'&subid3='+g_pd.subid3:'')+\n(g_pd.subid4!==ef?'&subid4='+g_pd.subid4:'')+\n(g_pd.subid5!==ef?'&subid5='+g_pd.subid5:'');Sf.appendChild(aAt);}})();</script></body></html>\n"
     ]
    }
   ],
   "source": [
    "url = \"https://www.doubai.com\"\n",
    "headers = {\n",
    "    \"User-Agent\": \"Mozilla/5.0 (Windows NT 10.0; Win64; x64) AppleWebKit/537.36 (KHTML, like Gecko) Chrome/87.0.4280.141 Safari/537.36 Edg/87.0.664.75\"\n",
    "}\n",
    "req = urllib.request.Request(url=url,headers=headers)\n",
    "res = urllib.request.urlopen(req)\n",
    "print(res.read().decode(\"utf-8\"))"
   ]
  },
  {
   "cell_type": "code",
   "execution_count": 3,
   "metadata": {
    "tags": [
     "outputPrepend"
    ]
   },
   "outputs": [
    {
     "output_type": "stream",
     "name": "stdout",
     "text": [
      "//movie.douban.com/subject/1293460/\",\"https://img9.doubanio.com/view/photo/s_ratio_poster/public/p1612355875.jpg\",\"雨中曲\",\" \",\"9.0\",\" \",\"骨灰级歌舞片\",\"导演: 斯坦利·多南 Stanley Donen   吉恩·凯利 Gene Kelly   主演: 吉恩·... 1952   美国   喜剧 歌舞 爱情\")\n",
      "\n",
      "                insert into movie250(info_link,pic_link,cname,ename,score,rated,introduction,info)\n",
      "                values(\"https://movie.douban.com/subject/27010768/\",\"https://img3.doubanio.com/view/photo/s_ratio_poster/public/p2561439800.jpg\",\"寄生虫\",\" \",\"8.7\",\" \",\" \",\"导演: 奉俊昊 Joon-ho Bong   主演: 宋康昊 Kang-ho Song   李善均 Seon-gyun... 2019   韩国   剧情 喜剧\")\n",
      "\n",
      "                insert into movie250(info_link,pic_link,cname,ename,score,rated,introduction,info)\n",
      "                values(\"https://movie.douban.com/subject/26430107/\",\"https://img1.doubanio.com/view/photo/s_ratio_poster/public/p2457609817.jpg\",\"二十二\",\" \",\"8.7\",\" \",\"有一些东西不应该被遗忘\",\"导演: 郭柯 Ke Guo   主演:  2015   中国大陆   纪录片\")\n",
      "\n",
      "                insert into movie250(info_link,pic_link,cname,ename,score,rated,introduction,info)\n",
      "                values(\"https://movie.douban.com/subject/25980443/\",\"https://img9.doubanio.com/view/photo/s_ratio_poster/public/p2421855655.jpg\",\"海边的曼彻斯特\",\" \",\"8.6\",\" \",\"我们都有权利不与自己的过去和解\",\"导演: 肯尼斯·罗纳根 Kenneth Lonergan   主演: 卡西·阿弗莱克 Casey Affle... 2016   美国   剧情 家庭\")\n",
      "\n",
      "                insert into movie250(info_link,pic_link,cname,ename,score,rated,introduction,info)\n",
      "                values(\"https://movie.douban.com/subject/25724855/\",\"https://img9.doubanio.com/view/photo/s_ratio_poster/public/p2259715855.jpg\",\"房间\",\" \",\"8.8\",\" \",\"被偷走的岁月，被伤害的生命，被禁锢的灵魂，终将被希望和善意救赎\",\"导演: 伦尼·阿伯拉罕森 Lenny Abrahamson   主演: 布丽·拉尔森 Brie Larson... 2015   爱尔兰 加拿大 英国 美国   剧情 家庭\")\n",
      "\n",
      "                insert into movie250(info_link,pic_link,cname,ename,score,rated,introduction,info)\n",
      "                values(\"https://movie.douban.com/subject/1296909/\",\"https://img2.doubanio.com/view/photo/s_ratio_poster/public/p2399597512.jpg\",\"虎口脱险\",\" \",\"8.9\",\" \",\"永远看不腻的喜剧\",\"导演: 杰拉尔·乌里 Gérard Oury   主演: 路易·德·菲耐斯 Louis de Funès... 1966   法国 英国   喜剧 战争\")\n",
      "\n",
      "                insert into movie250(info_link,pic_link,cname,ename,score,rated,introduction,info)\n",
      "                values(\"https://movie.douban.com/subject/1302827/\",\"https://img1.doubanio.com/view/photo/s_ratio_poster/public/p792257137.jpg\",\"人工智能\",\" \",\"8.7\",\" \",\"对爱的执着，可以超越一切\",\"导演: 史蒂文·斯皮尔伯格 Steven Spielberg   主演: 海利·乔·奥斯蒙 Haley... 2001   美国 英国   剧情 科幻\")\n",
      "\n",
      "                insert into movie250(info_link,pic_link,cname,ename,score,rated,introduction,info)\n",
      "                values(\"https://movie.douban.com/subject/1297518/\",\"https://img3.doubanio.com/view/photo/s_ratio_poster/public/p648370300.jpg\",\"九品芝麻官\",\" \",\"8.6\",\" \",\" \",\"导演: 王晶 Jing Wong   主演: 周星驰 Stephen Chow   吴孟达 Man Tat Ng   ... 1994   中国香港 中国大陆   剧情 喜剧 古装\")\n",
      "\n",
      "                insert into movie250(info_link,pic_link,cname,ename,score,rated,introduction,info)\n",
      "                values(\"https://movie.douban.com/subject/1292226/\",\"https://img9.doubanio.com/view/photo/s_ratio_poster/public/p2560717825.jpg\",\"2001太空漫游\",\" \",\"8.8\",\" \",\"现代科幻电影的开山之作，最伟大导演的最伟大影片\",\"导演: 斯坦利·库布里克 Stanley Kubrick   主演: 凯尔·杜拉 Keir Dullea   ... 1968   英国 美国   科幻 惊悚 冒险\")\n",
      "\n",
      "                insert into movie250(info_link,pic_link,cname,ename,score,rated,introduction,info)\n",
      "                values(\"https://movie.douban.com/subject/1291879/\",\"https://img3.doubanio.com/view/photo/s_ratio_poster/public/p1598883511.jpg\",\"罗生门\",\" \",\"8.8\",\" \",\"人生的N种可能性\",\"导演: 黑泽明 Akira Kurosawa   主演: 三船敏郎 Toshirô Mifune   京町子 ... 1950   日本   剧情 犯罪 悬疑\")\n",
      "\n",
      "                insert into movie250(info_link,pic_link,cname,ename,score,rated,introduction,info)\n",
      "                values(\"https://movie.douban.com/subject/1308857/\",\"https://img9.doubanio.com/view/photo/s_ratio_poster/public/p2363208684.jpg\",\"可可西里\",\" \",\"8.8\",\" \",\"坚硬的信仰\",\"导演: 陆川 Chuan Lu   主演: 多布杰 Duobujie   张磊 Lei Zhang   亓亮 Qi L... 2004   中国大陆 中国香港   剧情 犯罪\")\n",
      "\n",
      "                insert into movie250(info_link,pic_link,cname,ename,score,rated,introduction,info)\n",
      "                values(\"https://movie.douban.com/subject/1291844/\",\"https://img9.doubanio.com/view/photo/s_ratio_poster/public/p1910909085.jpg\",\"终结者2：审判日\",\" \",\"8.7\",\" \",\"少见的超越首部的续集，动作片中的经典\",\"导演: 詹姆斯·卡梅隆 James Cameron   主演: 阿诺·施瓦辛格 Arnold Schwarz... 1991   美国 法国   动作 科幻\")\n",
      "\n",
      "                insert into movie250(info_link,pic_link,cname,ename,score,rated,introduction,info)\n",
      "                values(\"https://movie.douban.com/subject/1828115/\",\"https://img9.doubanio.com/view/photo/s_ratio_poster/public/p453716305.jpg\",\"色，戒\",\" \",\"8.5\",\" \",\"假戏真情，爱欲深海\",\"导演: 李安 Ang Lee   主演: 梁朝伟 Tony Leung Chiu Wai   汤唯 Wei Tang   ... 2007   中国台湾 中国大陆 美国 中国香港   剧情 爱情 情色\")\n",
      "\n",
      "                insert into movie250(info_link,pic_link,cname,ename,score,rated,introduction,info)\n",
      "                values(\"https://movie.douban.com/subject/4739952/\",\"https://img2.doubanio.com/view/photo/s_ratio_poster/public/p1505312273.jpg\",\"初恋这件小事\",\" \",\"8.4\",\" \",\"黑小鸭速效美白记\",\"导演: 普特鹏·普罗萨卡·那·萨克那卡林 Puttipong Promsaka Na Sakolnakorn   华森·波克彭... 2010   泰国   剧情 喜剧 爱情\")\n",
      "\n",
      "                insert into movie250(info_link,pic_link,cname,ename,score,rated,introduction,info)\n",
      "                values(\"https://movie.douban.com/subject/1293908/\",\"https://img1.doubanio.com/view/photo/s_ratio_poster/public/p2170238828.jpg\",\"城市之光\",\" \",\"9.3\",\" \",\"永远的小人物，伟大的卓别林\",\"导演: Charles Chaplin   主演: 查理·卓别林 Charles Chaplin   弗吉尼亚·... 1931   美国   喜剧 剧情 爱情\")\n",
      "\n",
      "                insert into movie250(info_link,pic_link,cname,ename,score,rated,introduction,info)\n",
      "                values(\"https://movie.douban.com/subject/1293964/\",\"https://img1.doubanio.com/view/photo/s_ratio_poster/public/p2351134499.jpg\",\"魂断蓝桥\",\" \",\"8.8\",\" \",\"中国式内在的美国电影\",\"导演: 茂文·勒鲁瓦 Mervyn LeRoy   主演: 费雯·丽 Vivien Leigh   罗伯特·... 1940   美国   剧情 爱情 战争\")\n",
      "\n",
      "                insert into movie250(info_link,pic_link,cname,ename,score,rated,introduction,info)\n",
      "                values(\"https://movie.douban.com/subject/1292329/\",\"https://img9.doubanio.com/view/photo/s_ratio_poster/public/p848381236.jpg\",\"牯岭街少年杀人事件\",\" \",\"8.9\",\" \",\"弱者送给弱者的一刀\",\"导演: 杨德昌 Edward Yang   主演: 张震 Chen Chang   杨静怡 Lisa Yang   张... 1991   中国台湾   剧情 犯罪\")\n",
      "\n",
      "                insert into movie250(info_link,pic_link,cname,ename,score,rated,introduction,info)\n",
      "                values(\"https://movie.douban.com/subject/1867345/\",\"https://img3.doubanio.com/view/photo/s_ratio_poster/public/p1208653481.jpg\",\"遗愿清单\",\" \",\"8.7\",\" \",\"用剩余不多的时间，去燃烧整个生命\",\"导演: 罗伯·莱纳 Rob Reiner   主演: 杰克·尼科尔森 Jack Nicholson   摩根... 2007   美国   冒险 喜剧 剧情\")\n",
      "\n",
      "                insert into movie250(info_link,pic_link,cname,ename,score,rated,introduction,info)\n",
      "                values(\"https://movie.douban.com/subject/27059130/\",\"https://img2.doubanio.com/view/photo/s_ratio_poster/public/p2505928032.jpg\",\"大佛普拉斯\",\" \",\"8.7\",\" \",\"人们可以登上月球，却永远无法探索人们内心的宇宙\",\"导演: 黄信尧 Hsin-yao Huang   主演: 庄益增 Yizeng Zhuang   陈竹昇 Chu-sh... 2017   中国台湾   剧情 喜剧\")\n",
      "\n",
      "                insert into movie250(info_link,pic_link,cname,ename,score,rated,introduction,info)\n",
      "                values(\"https://movie.douban.com/subject/1292287/\",\"https://img1.doubanio.com/view/photo/s_ratio_poster/public/p1421018669.jpg\",\"新龙门客栈\",\" \",\"8.6\",\" \",\"嬉笑怒骂，调风动月\",\"导演: 李惠民 Raymond Lee   主演: 张曼玉 Maggie Cheung   林青霞 Brigitte ... 1992   中国香港 中国大陆   动作 爱情 武侠 古装\")\n",
      "\n",
      "                insert into movie250(info_link,pic_link,cname,ename,score,rated,introduction,info)\n",
      "                values(\"https://movie.douban.com/subject/3075287/\",\"https://img9.doubanio.com/view/photo/s_ratio_poster/public/p988260245.jpg\",\"源代码\",\" \",\"8.5\",\" \",\"邓肯·琼斯继《月球》之后再度奉献出一部精彩绝伦的科幻佳作\",\"导演: 邓肯·琼斯 Duncan Jones   主演: 杰克·吉伦哈尔 Jake Gyllenhaal   ... 2011   美国 加拿大   科幻 悬疑 惊悚\")\n",
      "\n",
      "                insert into movie250(info_link,pic_link,cname,ename,score,rated,introduction,info)\n",
      "                values(\"https://movie.douban.com/subject/1303394/\",\"https://img2.doubanio.com/view/photo/s_ratio_poster/public/p2570901292.jpg\",\"青蛇\",\" \",\"8.6\",\" \",\"人生如此，浮生如斯谁人言，花彼岸，此生情长意短谁都是不懂爱的罢了\",\"导演: 徐克 Hark Tsui   主演: 张曼玉 Maggie Cheung   王祖贤 Joey Wang   ... 1993   中国香港 中国大陆   剧情 爱情 奇幻 古装\")\n",
      "\n",
      "                insert into movie250(info_link,pic_link,cname,ename,score,rated,introduction,info)\n",
      "                values(\"https://movie.douban.com/subject/3443389/\",\"https://img9.doubanio.com/view/photo/s_ratio_poster/public/p2559581324.jpg\",\"海洋\",\" \",\"9.1\",\" \",\"大海啊，不全是水\",\"导演: 雅克·贝汉 Jacques Perrin   雅克·克鲁奥德 Jacques Cluzaud   主演:... 2009   法国 瑞士 西班牙 美国 阿联酋   纪录片\")\n",
      "\n",
      "                insert into movie250(info_link,pic_link,cname,ename,score,rated,introduction,info)\n",
      "                values(\"https://movie.douban.com/subject/1295865/\",\"https://img1.doubanio.com/view/photo/s_ratio_poster/public/p1023654037.jpg\",\"燃情岁月\",\" \",\"8.8\",\" \",\"传奇，不是每个人都可以拥有\",\"导演: 爱德华·兹威克 Edward Zwick   主演: 布拉德·皮特 Brad Pitt   安东... 1994   美国   剧情 爱情 战争 西部\")\n",
      "\n",
      "                insert into movie250(info_link,pic_link,cname,ename,score,rated,introduction,info)\n",
      "                values(\"https://movie.douban.com/subject/1438652/\",\"https://img1.doubanio.com/view/photo/s_ratio_poster/public/p2575043939.jpg\",\"无耻混蛋\",\" \",\"8.6\",\" \",\"昆汀同学越来越变态了，比北野武还杜琪峰\",\"导演: Quentin Tarantino   主演: 布拉德·皮特 Brad Pitt   梅拉尼·罗兰 M... 2009   德国 美国   剧情 犯罪\")\n",
      "\n",
      "                insert into movie250(info_link,pic_link,cname,ename,score,rated,introduction,info)\n",
      "                values(\"https://movie.douban.com/subject/5300054/\",\"https://img2.doubanio.com/view/photo/s_ratio_poster/public/p2549558913.jpg\",\"波西米亚狂想曲\",\" \",\"8.7\",\" \",\" \",\"导演: 布莱恩·辛格 Bryan Singer   主演: 拉米·马雷克 Rami Malek   本·哈... 2018   英国 美国   剧情 传记 同性 音乐\")\n",
      "\n",
      "                insert into movie250(info_link,pic_link,cname,ename,score,rated,introduction,info)\n",
      "                values(\"https://movie.douban.com/subject/3592854/\",\"https://img2.doubanio.com/view/photo/s_ratio_poster/public/p2236181653.jpg\",\"疯狂的麦克斯4：狂暴之路\",\" \",\"8.6\",\" \",\"“多么美好的一天！”轰轰轰砰咚，啪哒哒哒轰隆隆，磅~\",\"导演: 乔治·米勒 George Miller   主演: 汤姆·哈迪 Tom Hardy   查理兹·塞... 2015   澳大利亚 南非 美国   动作 科幻 冒险\")\n",
      "\n",
      "                insert into movie250(info_link,pic_link,cname,ename,score,rated,introduction,info)\n",
      "                values(\"https://movie.douban.com/subject/1428175/\",\"https://img2.doubanio.com/view/photo/s_ratio_poster/public/p1244017073.jpg\",\"血钻\",\" \",\"8.7\",\" \",\"每个美丽事物背后都是滴血的现实\",\"导演: 爱德华·兹威克 Edward Zwick   主演: 莱昂纳多·迪卡普里奥 Leonardo ... 2006   美国 德国 英国   剧情 惊悚 冒险\")\n",
      "\n",
      "                insert into movie250(info_link,pic_link,cname,ename,score,rated,introduction,info)\n",
      "                values(\"https://movie.douban.com/subject/1937946/\",\"https://img9.doubanio.com/view/photo/s_ratio_poster/public/p2079334286.jpg\",\"穿越时空的少女\",\" \",\"8.6\",\" \",\"爱上未来的你 \",\"导演: 细田守 Mamoru Hosoda   主演: 仲里依纱 Riisa Naka   石田卓也 Takuya... 2006   日本   剧情 爱情 科幻 动画\")\n",
      "\n",
      "                insert into movie250(info_link,pic_link,cname,ename,score,rated,introduction,info)\n",
      "                values(\"https://movie.douban.com/subject/2222996/\",\"https://img1.doubanio.com/view/photo/s_ratio_poster/public/p2375245718.jpg\",\"步履不停\",\" \",\"8.8\",\" \",\"日本的家庭电影已经是世界巅峰了，步履不停是巅峰中的佳作\",\"导演: 是枝裕和 Hirokazu Koreeda   主演: 阿部宽 Hiroshi Abe   夏川结衣 Yu... 2008   日本   剧情 家庭\")\n",
      "\n",
      "                insert into movie250(info_link,pic_link,cname,ename,score,rated,introduction,info)\n",
      "                values(\"https://movie.douban.com/subject/1308767/\",\"https://img9.doubanio.com/view/photo/s_ratio_poster/public/p667644866.jpg\",\"谍影重重2\",\" \",\"8.7\",\" \",\"谁说王家卫镜头很晃？\",\"导演: 保罗·格林格拉斯 Paul Greengrass   主演: 马特·达蒙 Matt Damon   ... 2004   美国 德国   动作 悬疑 惊悚\")\n",
      "\n",
      "                insert into movie250(info_link,pic_link,cname,ename,score,rated,introduction,info)\n",
      "                values(\"https://movie.douban.com/subject/1305690/\",\"https://img2.doubanio.com/view/photo/s_ratio_poster/public/p2525770523.jpg\",\"阿飞正传\",\" \",\"8.5\",\" \",\"王家卫是一种风格，张国荣是一个代表\",\"导演: 王家卫 Kar Wai Wong   主演: 张国荣 Leslie Cheung   张曼玉 Maggie C... 1990   中国香港   犯罪 剧情 爱情\")\n",
      "\n",
      "                insert into movie250(info_link,pic_link,cname,ename,score,rated,introduction,info)\n",
      "                values(\"https://movie.douban.com/subject/2363506/\",\"https://img9.doubanio.com/view/photo/s_ratio_poster/public/p1973489335.jpg\",\"地球上的星星\",\" \",\"8.9\",\" \",\"天使保护事件始末\",\"导演: 阿米尔·汗 Aamir Khan   主演: 达席尔·萨法瑞 Darsheel Safary   阿... 2007   印度   剧情 儿童 家庭\")\n",
      "\n",
      "                insert into movie250(info_link,pic_link,cname,ename,score,rated,introduction,info)\n",
      "                values(\"https://movie.douban.com/subject/25807345/\",\"https://img9.doubanio.com/view/photo/s_ratio_poster/public/p2187896734.jpg\",\"彗星来的那一夜\",\" \",\"8.5\",\" \",\"小成本大魅力\",\"导演: 詹姆斯·沃德·布柯特 James Ward Byrkit   主演: 艾米丽·芭尔多尼 Em... 2013   美国 英国   科幻 悬疑 惊悚\")\n",
      "\n",
      "                insert into movie250(info_link,pic_link,cname,ename,score,rated,introduction,info)\n",
      "                values(\"https://movie.douban.com/subject/1419936/\",\"https://img3.doubanio.com/view/photo/s_ratio_poster/public/p792282381.jpg\",\"战争之王\",\" \",\"8.7\",\" \",\"做一颗让别人需要你的棋子\",\"导演: 安德鲁·尼科尔 Andrew Niccol   主演: 尼古拉斯·凯奇 Nicolas Cage  ... 2005   美国 法国   剧情 犯罪\")\n",
      "\n",
      "                insert into movie250(info_link,pic_link,cname,ename,score,rated,introduction,info)\n",
      "                values(\"https://movie.douban.com/subject/26614893/\",\"https://img9.doubanio.com/view/photo/s_ratio_poster/public/p2522331945.jpg\",\"完美陌生人\",\" \",\"8.5\",\" \",\"来啊，互相伤害啊！\",\"导演: 保罗·格诺维瑟 Paolo Genovese   主演: 马可·贾利尼 Marco Giallini ... 2016   意大利   剧情 喜剧\")\n",
      "\n",
      "                insert into movie250(info_link,pic_link,cname,ename,score,rated,introduction,info)\n",
      "                values(\"https://movie.douban.com/subject/1760622/\",\"https://img2.doubanio.com/view/photo/s_ratio_poster/public/p2571500223.jpg\",\"香水\",\" \",\"8.5\",\" \",\"一个单凭体香达到高潮的男人\",\"导演: 汤姆·提克威 Tom Tykwer   主演: 本·卫肖 Ben Whishaw   艾伦·瑞克... 2006   德国 法国 西班牙 美国   剧情 犯罪 奇幻\")\n",
      "\n",
      "                insert into movie250(info_link,pic_link,cname,ename,score,rated,introduction,info)\n",
      "                values(\"https://movie.douban.com/subject/1304102/\",\"https://img3.doubanio.com/view/photo/s_ratio_poster/public/p1597183981.jpg\",\"谍影重重\",\" \",\"8.6\",\" \",\"哗啦啦啦啦，天在下雨，哗啦啦啦啦，云在哭泣……找自己\",\"导演: 道格·里曼 Doug Liman   主演: 马特·达蒙 Matt Damon   弗兰卡·波坦... 2002   美国 德国 捷克   动作 悬疑 惊悚\")\n",
      "\n",
      "                insert into movie250(info_link,pic_link,cname,ename,score,rated,introduction,info)\n",
      "                values(\"https://movie.douban.com/subject/2213597/\",\"https://img1.doubanio.com/view/photo/s_ratio_poster/public/p1140984198.jpg\",\"朗读者\",\" \",\"8.6\",\" \",\"当爱情跨越年龄的界限，它似乎能变得更久远一点，成为一种责任，一种水到渠成的相濡以沫 \",\"导演: 史蒂芬·戴德利 Stephen Daldry   主演: 凯特·温丝莱特 Kate Winslet ... 2008   美国 德国   剧情 爱情\")\n",
      "\n",
      "                insert into movie250(info_link,pic_link,cname,ename,score,rated,introduction,info)\n",
      "                values(\"https://movie.douban.com/subject/1291568/\",\"https://img9.doubanio.com/view/photo/s_ratio_poster/public/p1925331564.jpg\",\"东京物语\",\" \",\"9.2\",\" \",\"东京那么大，如果有一天走失了，恐怕一辈子不能再相见\",\"导演: 小津安二郎 Yasujirô Ozu   主演: 笠智众 Chishû Ryû   原节... 1953   日本   剧情 家庭\")\n",
      "\n",
      "                insert into movie250(info_link,pic_link,cname,ename,score,rated,introduction,info)\n",
      "                values(\"https://movie.douban.com/subject/1300117/\",\"https://img9.doubanio.com/view/photo/s_ratio_poster/public/p2195672555.jpg\",\"千钧一发\",\" \",\"8.8\",\" \",\"一部能引人思考的科幻励志片\",\"导演: 安德鲁·尼科尔 Andrew Niccol   主演: 伊桑·霍克 Ethan Hawke   乌玛... 1997   美国   剧情 科幻 惊悚\")\n",
      "\n",
      "                insert into movie250(info_link,pic_link,cname,ename,score,rated,introduction,info)\n",
      "                values(\"https://movie.douban.com/subject/6874403/\",\"https://img2.doubanio.com/view/photo/s_ratio_poster/public/p2250287733.jpg\",\"再次出发之纽约遇见你\",\" \",\"8.6\",\" \",\"爱我就给我看你的播放列表\",\"导演: 约翰·卡尼 John Carney   主演: 凯拉·奈特莉 Keira Knightley   马克... 2013   美国   喜剧 爱情 音乐\")\n",
      "\n",
      "                insert into movie250(info_link,pic_link,cname,ename,score,rated,introduction,info)\n",
      "                values(\"https://movie.douban.com/subject/1292528/\",\"https://img1.doubanio.com/view/photo/s_ratio_poster/public/p513567548.jpg\",\"猜火车\",\" \",\"8.5\",\" \",\"不可猜的青春迷笛 \",\"导演: 丹尼·博伊尔 Danny Boyle   主演: 伊万·麦克格雷格 Ewan McGregor   ... 1996   英国   剧情 犯罪\")\n",
      "\n",
      "                insert into movie250(info_link,pic_link,cname,ename,score,rated,introduction,info)\n",
      "                values(\"https://movie.douban.com/subject/1310177/\",\"https://img1.doubanio.com/view/photo/s_ratio_poster/public/p456703618.jpg\",\"东京教父\",\" \",\"9.0\",\" \",\" \",\"导演: 今敏 Satoshi Kon   主演: 江守彻 Toru Emori   梅垣义明 Yoshiaki Ume... 2003   日本   剧情 喜剧 动画\")\n",
      "\n",
      "                insert into movie250(info_link,pic_link,cname,ename,score,rated,introduction,info)\n",
      "                values(\"https://movie.douban.com/subject/2297265/\",\"https://img2.doubanio.com/view/photo/s_ratio_poster/public/p1344888983.jpg\",\"浪潮\",\" \",\"8.7\",\" \",\"世界离独裁只有五天\",\"导演: 丹尼斯·甘塞尔 Dennis Gansel   主演: 尤尔根·沃格尔 Jürgen Vogel ... 2008   德国   剧情 惊悚\")\n",
      "\n",
      "                insert into movie250(info_link,pic_link,cname,ename,score,rated,introduction,info)\n",
      "                values(\"https://movie.douban.com/subject/25921812/\",\"https://img3.doubanio.com/view/photo/s_ratio_poster/public/p2393044761.jpg\",\"驴得水\",\" \",\"8.3\",\" \",\"过去的如果就让它过去了，未来只会越来越糟！\",\"导演: 周申 Shen Zhou   刘露 Lu Liu   主演: 任素汐 Suxi Ren   大力 Da Li ... 2016   中国大陆   剧情 喜剧\")\n",
      "\n",
      "                insert into movie250(info_link,pic_link,cname,ename,score,rated,introduction,info)\n",
      "                values(\"https://movie.douban.com/subject/1304141/\",\"https://img3.doubanio.com/view/photo/s_ratio_poster/public/p443461390.jpg\",\"黑客帝国2：重装上阵\",\" \",\"8.6\",\" \",\"一个精彩的世界观正在缓缓建立\",\"导演: Andy Wachowski   Larry Wachowski   主演: 基努·里维斯 Keanu Reeves... 2003   美国 澳大利亚   动作 科幻\")\n",
      "\n",
      "                insert into movie250(info_link,pic_link,cname,ename,score,rated,introduction,info)\n",
      "                values(\"https://movie.douban.com/subject/5908478/\",\"https://img1.doubanio.com/view/photo/s_ratio_poster/public/p1075591188.jpg\",\"我爱你\",\" \",\"9.1\",\" \",\"你要相信，这世上真的有爱存在，不管在什么年纪 \",\"导演: 秋昌民 Chang-min Choo   主演: 宋在河 Jae-ho Song   李顺载 Soon-jae... 2011   韩国   剧情 爱情\")\n",
      "\n",
      "                insert into movie250(info_link,pic_link,cname,ename,score,rated,introduction,info)\n",
      "                values(\"https://movie.douban.com/subject/25954475/\",\"https://img1.doubanio.com/view/photo/s_ratio_poster/public/p2263822658.jpg\",\"聚焦\",\" \",\"8.8\",\" \",\"新闻人的理性求真\",\"导演: 托马斯·麦卡锡 Thomas McCarthy   主演: 马克·鲁弗洛 Mark Ruffalo  ... 2015   美国   剧情 传记\")\n",
      "\n",
      "                insert into movie250(info_link,pic_link,cname,ename,score,rated,introduction,info)\n",
      "                values(\"https://movie.douban.com/subject/1307106/\",\"https://img3.doubanio.com/view/photo/s_ratio_poster/public/p958008320.jpg\",\"无间道2\",\" \",\"8.6\",\" \",\" \",\"导演: 刘伟强   麦兆辉   主演: 陈冠希   余文乐   曾志伟 2003   中国香港   动作 犯罪 剧情 惊悚\")\n",
      "\n",
      "                insert into movie250(info_link,pic_link,cname,ename,score,rated,introduction,info)\n",
      "                values(\"https://movie.douban.com/subject/1959877/\",\"https://img1.doubanio.com/view/photo/s_ratio_poster/public/p2627847859.jpg\",\"崖上的波妞\",\" \",\"8.5\",\" \",\" \",\"导演: 宫崎骏 Hayao Miyazaki   主演: 奈良柚莉爱 Yuria Nara   土井洋辉 Hir... 2008   日本   动画 奇幻 冒险\")\n",
      "\n",
      "                insert into movie250(info_link,pic_link,cname,ename,score,rated,introduction,info)\n",
      "                values(\"https://movie.douban.com/subject/26393561/\",\"https://img9.doubanio.com/view/photo/s_ratio_poster/public/p2510956726.jpg\",\"小萝莉的猴神大叔\",\" \",\"8.4\",\" \",\"宝莱坞的萝莉与大叔\",\"导演: 卡比尔·汗 Kabir Khan   主演: 萨尔曼·汗 Salman Khan   哈莎莉·马... 2015   印度   剧情 喜剧 动作\")\n",
      "\n",
      "                insert into movie250(info_link,pic_link,cname,ename,score,rated,introduction,info)\n",
      "                values(\"https://movie.douban.com/subject/1397546/\",\"https://img3.doubanio.com/view/photo/s_ratio_poster/public/p2561545031.jpg\",\"追随\",\" \",\"8.9\",\" \",\"诺兰的牛逼来源于内心散发出的恐惧\",\"导演: 克里斯托弗·诺兰 Christopher Nolan   主演: 杰里米·西奥伯德 Jeremy... 1998   英国   犯罪 悬疑 惊悚\")\n",
      "\n",
      "                insert into movie250(info_link,pic_link,cname,ename,score,rated,introduction,info)\n",
      "                values(\"https://movie.douban.com/subject/1291824/\",\"https://img3.doubanio.com/view/photo/s_ratio_poster/public/p1910900710.jpg\",\"黑鹰坠落\",\" \",\"8.7\",\" \",\"还原真实而残酷的战争\",\"导演: 雷德利·斯科特 Ridley Scott   主演: 乔什·哈奈特 Josh Hartnett   ... 2001   美国 英国   动作 历史 战争\")\n",
      "\n",
      "                insert into movie250(info_link,pic_link,cname,ename,score,rated,introduction,info)\n",
      "                values(\"https://movie.douban.com/subject/5964718/\",\"https://img9.doubanio.com/view/photo/s_ratio_poster/public/p2189835254.jpg\",\"一次别离\",\" \",\"8.7\",\" \",\"只有有信仰的人才能说出事实真相\",\"导演: 阿斯哈·法哈蒂  Asghar Farhadi   主演: 佩曼·莫阿迪 Peyman Moadi  ... 2011   伊朗 法国   剧情 家庭\")\n"
     ]
    }
   ],
   "source": [
    "import urllib\n",
    "import re\n",
    "from bs4 import BeautifulSoup as BS\n",
    "import xlwt\n",
    "import sqlite3\n",
    "import os\n",
    "\n",
    "def main():\n",
    "    baseurl = \"https://movie.douban.com/top250?start=\"\n",
    "    #爬取网页\n",
    "    datalist = getData(baseurl)\n",
    "    savepath = \"doubanTop250.xls\"\n",
    "    dbpath = \"movie.db\"\n",
    "    #保存数据\n",
    "    saveData(datalist,savepath)\n",
    "    saveDataDb(datalist,dbpath)\n",
    "\n",
    "#影片详情链接的规则\n",
    "findlink = re.compile(r'<a href=\"(.*?)\">') #创建一个正则表达式对象，表示规则（字符串的模式）\n",
    "#影片图片链接的规则\n",
    "findImg = re.compile(r'<img.*src=\"(.*?)\"',re.S)#忽略换行符，匹配到其他的字符，所有出现的情况\n",
    "#影片的片名\n",
    "findTitle = re.compile(r'<span class=\"title\">(.*)</span>')\n",
    "#影片评分\n",
    "findRating = re.compile(r'<span class=\"rating_num\" property=\"v:average\">(.*)</span>')\n",
    "#评价人数\n",
    "findJudge = re.compile(r'<span>(\\d*)评价人</span>')\n",
    "#找到概况\n",
    "findInq = re.compile(r'<span class=\"inq\">(.*)</span>')\n",
    "#找到影片的相应内容\n",
    "findBd = re.compile(r'<p class=\"\">(.*?)</p>',re.S)\n",
    "\n",
    "#爬取网页\n",
    "def getData(baseurl):\n",
    "    datalist = []\n",
    "    for i in range(0,10): #调用获取页面信息的函数10次\n",
    "        url = baseurl+str(i*25)\n",
    "        html = askUrl(url) #保存获取到的网页源码\n",
    "        #逐一解析数据\n",
    "        souphtml = BS(html,\"html.parser\")\n",
    "        for item in souphtml.find_all('div',class_=\"item\"): #查找符合要求的字符串形成一个列表\n",
    "            #class_表示的是属性值\n",
    "            #print(item) #测试电影item的全部信息\n",
    "            data = [] #保存一部电影的所有信息\n",
    "            item = str(item)\n",
    "            link = re.findall(findlink,item)[0] #re库通过正则表达式查找指定的字符串\n",
    "            data.append(link)\n",
    "            imgSrc = re.findall(findImg,item)[0]\n",
    "            data.append(imgSrc)\n",
    "            titles = re.findall(findTitle,item) #片名可能只有个中文名和外文名，或者只有一个\n",
    "            if titles == 2:\n",
    "                ctitle = titles[0]\n",
    "                data.append(ctitle)\n",
    "                otitle = titles[1].replace(\"/\",\"\")\n",
    "                data.append(otitle)\n",
    "            else:\n",
    "                data.append(titles[0])\n",
    "                data.append(' ')\n",
    "            Rating = re.findall(findRating,item)[0]\n",
    "            data.append(Rating)\n",
    "            Judge = re.findall(findJudge,item)\n",
    "            if len(Judge) == 1:\n",
    "                data.append(Judge)\n",
    "            else:\n",
    "                data.append(\" \")   \n",
    "            Inq = re.findall(findInq,item)\n",
    "            if len(Inq) != 0:\n",
    "                Inq = Inq[0].replace(\"。\",\"\")\n",
    "                data.append(Inq)\n",
    "            else:\n",
    "                data.append(\" \")\n",
    "            Bd = re.findall(findBd,item)[0]\n",
    "            Bd = re.sub('<br(\\s+)?/>(\\s+)?',\" \",Bd)\n",
    "            Bd = re.sub('/',\" \",Bd)\n",
    "            data.append(Bd.strip())#去掉前后的空格\n",
    "            datalist.append(data) #把处理好的一部电影数据放入datalist\n",
    "\n",
    "    return datalist\n",
    "\n",
    "#得到指定网页的一个内容\n",
    "def askUrl(url):\n",
    "    #让对方服务器认为自己是个浏览器\n",
    "    header = {\n",
    "        \"User-Agent\": \"Mozilla/5.0 (Windows NT 10.0; Win64; x64) AppleWebKit/537.36 (KHTML, like Gecko) Chrome/87.0.4280.141 Safari/537.36 Edg/87.0.664.75\"\n",
    "    }\n",
    "    request = urllib.request.Request(url,headers=header);\n",
    "    html = \"\"\n",
    "    try:\n",
    "        response = urllib.request.urlopen(request)\n",
    "        html = response.read().decode(\"utf-8\")\n",
    "    except urllib.error.URLError as e:\n",
    "        if hasattr(e,\"code\"):\n",
    "            print(e.code)\n",
    "        if hasattr(e,\"reason\"):\n",
    "            print(e.reason)\n",
    "    return html\n",
    "\n",
    "#保存数据\n",
    "def saveData(datalist,savePath):\n",
    "    print(\"begin to save......\")\n",
    "    book = xlwt.Workbook(encoding = \"utf-8\",style_compression=0)\n",
    "    sheet = book.add_sheet(\"doubanTop250\",cell_overwrite_ok=True)\n",
    "    col = (\"电影详情链接\",\"图片链接\",\"影片中文名\",\"影片外文名\",\"评分\",\"评价数\",\"概况\",\"相关信息\")\n",
    "    for i in range(0,8):\n",
    "        sheet.write(0,i,col[i])\n",
    "    for i in range(0,250):\n",
    "        print(\"第%d条\"%i)\n",
    "        data = datalist[i]\n",
    "        for j in range(0,8):\n",
    "            sheet.write(i+1,j,data[j])\n",
    "    book.save(savePath)\n",
    "    print(\"save success!\")\n",
    "\n",
    "def init_db(dbpath):\n",
    "    conn = sqlite3.connect(dbpath)\n",
    "    cursor = conn.cursor()\n",
    "    #创建数据表\n",
    "    sql ='''\n",
    "        create table movie250\n",
    "        (\n",
    "            id integer primary key autoincrement,\n",
    "            info_link text,\n",
    "            pic_link text,\n",
    "            cname text,\n",
    "            ename text,\n",
    "            score text,\n",
    "            rated text,\n",
    "            introduction text,\n",
    "            info text\n",
    "        )\n",
    "    '''\n",
    "    cursor.execute(sql)\n",
    "    conn.commit()\n",
    "    conn.close()\n",
    "\n",
    "def saveDataDb(datalist,dbpath):\n",
    "    if os.path.exists(\"movie.db\"):\n",
    "        pass\n",
    "    else:\n",
    "        init_db(dbpath)\n",
    "    conn = sqlite3.connect(dbpath)\n",
    "    cur = conn.cursor()\n",
    "    for data in datalist:\n",
    "        for index in range(len(data)):\n",
    "            data[index] = '\"'+data[index]+'\"'\n",
    "        sql = '''\n",
    "                insert into movie250(info_link,pic_link,cname,ename,score,rated,introduction,info)\n",
    "                values(%s)'''%((\",\").join(data))\n",
    "        print(sql)\n",
    "        cur.execute(sql)\n",
    "        conn.commit()\n",
    "    conn.close()\n",
    "if __name__ == \"__main__\": \n",
    "    main()"
   ]
  },
  {
   "cell_type": "code",
   "execution_count": 3,
   "metadata": {},
   "outputs": [],
   "source": [
    "import urllib\n",
    "from bs4 import BeautifulSoup\n",
    "url = \"https://www.doubai.com\" \n",
    "headers = {\n",
    "    \"User-Agent\": \"Mozilla/5.0 (Windows NT 10.0; Win64; x64) AppleWebKit/537.36 (KHTML, like Gecko) Chrome/87.0.4280.141 Safari/537.36 Edg/87.0.664.75\"\n",
    "}\n",
    "req = urllib.request.Request(url=url,headers=headers)\n",
    "html = urllib.request.urlopen(req)\n",
    "#测试bs4包的使用\n",
    "#beautiful将复杂的html文档转换成一个复杂的树形结构，每个节点分为四种\n",
    "#1.Tag 标签及其内容：拿到它找到的第一个内容\n",
    "#2.NavigableString 标签里的内容\n",
    "#3.attrs 标签中的属性\n",
    "#BeautifulSoup 表示整个文档\n",
    "#print(bs.name)\n",
    "#4.获得整个文档的内容\n",
    "#Comment 指的是文档中不含注释的内容\n",
    "#文档的遍历和搜索\n",
    "bs = BeautifulSoup(html,\"html.parser\")"
   ]
  },
  {
   "cell_type": "code",
   "execution_count": 14,
   "metadata": {},
   "outputs": [
    {
     "output_type": "stream",
     "name": "stdout",
     "text": [
      "[<head>\n<meta charset=\"utf-8\"/>\n<title></title>\n<link href=\"//dragonstatic.com/parking/css/native.css\" media=\"screen\" rel=\"stylesheet\" type=\"text/css\"/>\n<script src=\"//dragonstatic.com/parking/js/track.js?v=190929\" type=\"3a403e5efd17e3e78e5868b9-text/javascript\"></script>\n<script type=\"3a403e5efd17e3e78e5868b9-text/javascript\">var pageinfo = {ad:1};</script>\n<script src=\"//dragonstatic.com/parking/js/native.js?v=201206\" type=\"3a403e5efd17e3e78e5868b9-text/javascript\"></script>\n</head>, <meta charset=\"utf-8\"/>]\n"
     ]
    }
   ],
   "source": [
    "import re\n",
    "#更多内容搜索文档\n",
    "# print(bs.head.contents[1])\n",
    "#基于文档的搜索，查询操作\n",
    "#(1) find_all() 字符串过滤\n",
    "t_list = bs.find_all(\"src\")\n",
    "# print(t_list)\n",
    "#正则表达式搜索使用search()方法来匹配\n",
    "t_list = bs.find_all(re.compile(\"a\"))\n",
    "print(t_list)"
   ]
  },
  {
   "cell_type": "code",
   "execution_count": 1,
   "metadata": {},
   "outputs": [
    {
     "output_type": "stream",
     "name": "stdout",
     "text": [
      "Open database successfully!\n"
     ]
    }
   ],
   "source": [
    "import sqlite3\n",
    "conn = sqlite3.connect(\"test.db\")#打开或创建数据库文件\n",
    "print(\"Open database successfully!\")\n",
    "c = conn.cursor() #获取游标\n",
    "sql = '''\n",
    "    create table company\n",
    "        (id int primary key not null,\n",
    "        name text not null,\n",
    "        age int not null,\n",
    "        address char(50),\n",
    "        salary real);\n",
    "''' #执行sql语句\n",
    "c.execute(sql)\n",
    "conn.commit()#提交数据库操作\n",
    "conn.close()#关闭数据库操作"
   ]
  },
  {
   "cell_type": "code",
   "execution_count": 2,
   "metadata": {},
   "outputs": [
    {
     "output_type": "stream",
     "name": "stdout",
     "text": [
      "成功打开数据库\n"
     ]
    }
   ],
   "source": [
    "#插入数据\n",
    "conn = sqlite3.connect(\"test.db\")\n",
    "print(\"成功打开数据库\")\n",
    "c = conn.cursor()\n",
    "sql1 = '''\n",
    "    insert into company (id,name,age,address,salary)\n",
    "    values(1,'张三',32,\"成都\",8000);   \n",
    "''' #执行sql1语句\n",
    "sql2 = '''\n",
    "    insert into company (id,name,age,address,salary)\n",
    "    values(2,'李四',30,\"重庆\",15000);   \n",
    "''' #执行sql2语句\n",
    "c.execute(sql1)\n",
    "c.execute(sql2)\n",
    "conn.commit()#提交数据库操作\n",
    "conn.close()#关闭数据库操作\n",
    "\n"
   ]
  },
  {
   "cell_type": "code",
   "execution_count": 3,
   "metadata": {},
   "outputs": [
    {
     "output_type": "stream",
     "name": "stdout",
     "text": [
      "成功打开数据库\nid= 1\nname= 张三\naddress= 成都\nsalary= 8000.0 \n\nid= 2\nname= 李四\naddress= 重庆\nsalary= 15000.0 \n\n查询完毕\n"
     ]
    }
   ],
   "source": [
    "#查询数据\n",
    "import sqlite3\n",
    "conn = sqlite3.connect(\"test.db\")\n",
    "print(\"成功打开数据库\")\n",
    "c = conn.cursor()\n",
    "sql = \"select id,name,address,salary from company\" #执行sql语句\n",
    "cursor=c.execute(sql)\n",
    "for row in cursor:\n",
    "    print(\"id=\",row[0])\n",
    "    print(\"name=\",row[1])\n",
    "    print(\"address=\",row[2])\n",
    "    print(\"salary=\",row[3],\"\\n\")\n",
    "conn.commit()#提交数据库操作\n",
    "conn.close()#关闭数据库操作\n",
    "print(\"查询完毕\")"
   ]
  },
  {
   "cell_type": "code",
   "execution_count": null,
   "metadata": {},
   "outputs": [],
   "source": []
  }
 ]
}