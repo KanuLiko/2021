{
 "metadata": {
  "language_info": {
   "codemirror_mode": {
    "name": "ipython",
    "version": 3
   },
   "file_extension": ".py",
   "mimetype": "text/x-python",
   "name": "python",
   "nbconvert_exporter": "python",
   "pygments_lexer": "ipython3",
   "version": "3.8.7-final"
  },
  "orig_nbformat": 2,
  "kernelspec": {
   "name": "python3",
   "display_name": "Python 3.8.7 64-bit",
   "metadata": {
    "interpreter": {
     "hash": "1baa965d5efe3ac65b79dfc60c0d706280b1da80fedb7760faf2759126c4f253"
    }
   }
  }
 },
 "nbformat": 4,
 "nbformat_minor": 2,
 "cells": [
  {
   "cell_type": "code",
   "execution_count": null,
   "metadata": {
    "tags": []
   },
   "outputs": [],
   "source": [
    "import urllib\n",
    "import urllib.parse\n",
    "#get - method1\n",
    "# response = urllib.request.urlopen('https://www.baidu.com')\n",
    "# print(response.read().decode('utf-8')) #对获取的网页进行utf-8解码\n",
    "#post - method2 httpbin.org\n",
    "data = bytes(urllib.parse.urlencode({\"hello\":\"world\"}),encoding='utf-8')\n",
    "postresponse = urllib.request.urlopen('http://www.httpbin.org/post',data=data)\n",
    "print(postresponse.read().decode('utf-8'))"
   ]
  },
  {
   "cell_type": "code",
   "execution_count": 2,
   "metadata": {},
   "outputs": [],
   "source": [
    "import urllib\n",
    "# try:\n",
    "#     getresponse = urllib.request.urlopen('http://www.httpbin.org/get',timeout=0.01)\n",
    "#     print(getresponse.read().decode('utf-8'))\n",
    "# except urllib.error.URLError as e:\n",
    "#     print(\"time out!\")"
   ]
  },
  {
   "cell_type": "code",
   "execution_count": 3,
   "metadata": {},
   "outputs": [
    {
     "output_type": "stream",
     "name": "stdout",
     "text": [
      "200\n"
     ]
    }
   ],
   "source": [
    "getresponse = urllib.request.urlopen('http://www.httpbin.org/get')\n",
    "print(getresponse.status)"
   ]
  },
  {
   "cell_type": "code",
   "execution_count": 4,
   "metadata": {},
   "outputs": [],
   "source": [
    "# response = urllib.request.urlopen(\"http://douban.com\")\n",
    "# print(reponse.status)\n",
    "#error 418 证明对方知道你是一个查重"
   ]
  },
  {
   "cell_type": "code",
   "execution_count": 5,
   "metadata": {},
   "outputs": [
    {
     "output_type": "stream",
     "name": "stdout",
     "text": [
      "BWS/1.1\n"
     ]
    }
   ],
   "source": [
    "response = urllib.request.urlopen(\"http://www.baidu.com\")\n",
    "print(response.getheader(\"Server\"))"
   ]
  },
  {
   "cell_type": "code",
   "execution_count": 8,
   "metadata": {},
   "outputs": [
    {
     "output_type": "stream",
     "name": "stdout",
     "text": [
      "<!doctype html>\n<html lang=\"en\">\n<head>\n<meta charset=\"utf-8\" />\n<title></title>\n<link rel=\"stylesheet\" href=\"//dragonstatic.com/parking/css/native.css\" type=\"text/css\" media=\"screen\" />\n<script type=\"059d933767d5ef4a81979b6e-text/javascript\" src=\"//dragonstatic.com/parking/js/track.js?v=190929\"></script>\n<script type=\"059d933767d5ef4a81979b6e-text/javascript\">var pageinfo = {ad:1};</script>\n<script type=\"059d933767d5ef4a81979b6e-text/javascript\" src=\"//dragonstatic.com/parking/js/native.js?v=201206\"></script>\n\n</head>\n<body>\n<div id='root'></div>\n<script src=\"https://ajax.cloudflare.com/cdn-cgi/scripts/7089c43e/cloudflare-static/rocket-loader.min.js\" data-cf-settings=\"059d933767d5ef4a81979b6e-|49\" defer=\"\"></script></body>\n</html>\n\n"
     ]
    }
   ],
   "source": [
    "url2 = \"http://httpbin.org/post\"\n",
    "headers = {\n",
    "    \"User-Agent\": \"Mozilla/5.0 (Windows NT 10.0; Win64; x64) AppleWebKit/537.36 (KHTML, like Gecko) Chrome/87.0.4280.141 Safari/537.36 Edg/87.0.664.75\"\n",
    "}\n",
    "data = bytes(urllib.parse.urlencode({\"name\":\"Eric\"}),encoding=\"utf-8\")\n",
    "req = urllib.request.Request(url=url,data=data,headers=headers,method =\"POST\")\n",
    "res = urllib.request.urlopen(req)\n",
    "print(res.read().decode(\"utf-8\"))"
   ]
  },
  {
   "cell_type": "code",
   "execution_count": 9,
   "metadata": {},
   "outputs": [
    {
     "output_type": "stream",
     "name": "stdout",
     "text": [
      "<!DOCTYPE html><html data-adblockkey=\"MFwwDQYJKoZIhvcNAQEBBQADSwAwSAJBANDrp2lz7AOmADaN8tA50LsWcjLFyQFcb/P2Txc58oYOeILb3vBw7J6f4pamkAQVSQuqYsKx3YzdUHCvbVZvFUsCAwEAAQ==_m03SKooon2mopHAMPek9H6B2+rng2YoCq9vX8nWjgoLHN7+dVEM56JL6xHmifeporw4PG49tmDn6JM1QYwbU0Q==\"><head><meta http-equiv=\"Content-Type\" content=\"text/html; charset=utf-8\"><title></title><meta name=\"viewport\" content=\"width=device-width, initial-scale=1\"><meta name=\"description\" content=\"See related links to what you are looking for.\"/></head><!--[if IE 6 ]><body class=\"ie6\"><![endif]--><!--[if IE 7 ]><body class=\"ie7\"><![endif]--><!--[if IE 8 ]><body class=\"ie8\"><![endif]--><!--[if IE 9 ]><body class=\"ie9\"><![endif]--><!--[if (gt IE 9)|!(IE)]> --><body><!--<![endif]--><script type=\"text/javascript\">g_pb=(function(){var\nDT=document,azx=location,DD=DT.createElement('script'),aAC=false,LU;DD.defer=true;DD.async=true;DD.src=\"//www.google.com/adsense/domains/caf.js\";DD.onerror=function(){if(azx.search!=='?z'){azx.href='/?z';}};DD.onload=DD.onreadystatechange=function(){if(!aAC&&LU){if(!window['googleNDT_']){}\nLU(google.ads.domains.Caf);}\naAC=true;};DT.body.appendChild(DD);return{azm:function(n$){if(aAC)\nn$(google.ads.domains.Caf);else\nLU=n$;},bq:function(){if(!aAC){DT.body.removeChild(DD);}}};})();g_pd=(function(){var\nazx=window.location,nw={},bH,azw=azx.search.substring(1),aAv,aAw;if(!azw)\nreturn nw;aAv=azw.split(\"&\");for(bH=0;bH<aAv.length;bH++){aAw=aAv[bH].split('=');nw[aAw[0]]=aAw[1]?aAw[1]:\"\";}\nreturn nw;})();g_pc=(function(){var $is_ABP_whitelisted=null;var $Image1=new Image;var $Image2=new Image;var $error1=false;var $error2=false;var $remaining=2;var $random=Math.random()*11;function $imageLoaded(){$remaining--;if($remaining===0)\n$is_ABP_whitelisted=!$error1&&$error2;}\n$Image1.onload=$Image2.onload=$imageLoaded;$Image1.onerror=function(){$error1=true;$imageLoaded();};$Image2.onerror=function(){$error2=true;$imageLoaded();};$Image1.src='/px.gif?ch=1&rn='+$random;$Image2.src='/px.gif?ch=2&rn='+$random;return{azo:function(){return'&abp='+($is_ABP_whitelisted?'1':'0');},$isWhitelisted:function(){return $is_ABP_whitelisted;},$onReady:function($callback){function $poll(){if($is_ABP_whitelisted===null)\nsetTimeout($poll,100);else $callback();}\n$poll();}}})();(function(){var aAo=screen,Rr=window,azx=Rr.location,aAB=top.location,DT=document,Sf=DT.body||DT.getElementsByTagName('body')[0],aAy=0,aAx=0,aAz=0,$IE=null;if(Sf.className==='ie6')\n$IE=6;else if(Sf.className==='ie7')\n$IE=7;else if(Sf.className==='ie8')\n$IE=8;else if(Sf.className==='ie9')\n$IE=9;function aAu($callback){aAz++;aAy=Rr.innerWidth||DT.documentElement.clientWidth||Sf.clientWidth;aAx=Rr.innerHeight||DT.documentElement.clientHeight||Sf.clientHeight;if(aAy>0||aAz>=5){$callback();}\nelse{setTimeout(aAu,100);}}\nvar $num_requirements=2;function $requirementMet(){$num_requirements--;if($num_requirements===0)\naAA();}\naAu($requirementMet);g_pc.$onReady($requirementMet);function aAA(){var ef=undefined,IQ=encodeURIComponent,aAt;if(aAB!=azx&&g_pd.r_s===ef)\naAB.href=azx.href;aAt=DT.createElement('script');aAt.type='text/javascript';aAt.src='/glp'+'?r='+(g_pd.r!==ef?g_pd.r:(DT.referrer?IQ(DT.referrer.substr(0,255)):''))+\n(g_pd.r_u?'&u='+g_pd.r_u:'&u='+IQ(azx.href.split('?')[0]))+\n(g_pd.gc?'&gc='+g_pd.gc:'')+\n(g_pd.cid?'&cid='+g_pd.cid:'')+\n(g_pd.query?'&sq='+g_pd.query:'')+\n(g_pd.search?'&ss=1':'')+\n(g_pd.a!==ef?'&a':'')+\n(g_pd.z!==ef?'&z':'')+\n(g_pd.z_ds!==ef?'&z_ds':'')+\n(g_pd.r_s!==ef?'&r_s='+g_pd.r_s:'')+\n(g_pd.r_d!==ef?'&r_d='+g_pd.r_d:'')+'&rw='+aAo.width+'&rh='+aAo.height+\n(g_pd.r_ww!==ef?'&ww='+g_pd.r_ww:'&ww='+aAy)+\n(g_pd.r_wh!==ef?'&wh='+g_pd.r_wh:'&wh='+aAx)+\n(g_pd.ref_keyword!==ef?'&ref_keyword='+g_pd.ref_keyword:'')+\n(g_pc.$isWhitelisted()?'&abp=1':'')+\n($IE!==null?'&ie='+$IE:'')+\n(g_pd.partner!==ef?'&partner='+g_pd.partner:'')+\n(g_pd.subid1!==ef?'&subid1='+g_pd.subid1:'')+\n(g_pd.subid2!==ef?'&subid2='+g_pd.subid2:'')+\n(g_pd.subid3!==ef?'&subid3='+g_pd.subid3:'')+\n(g_pd.subid4!==ef?'&subid4='+g_pd.subid4:'')+\n(g_pd.subid5!==ef?'&subid5='+g_pd.subid5:'');Sf.appendChild(aAt);}})();</script></body></html>\n"
     ]
    }
   ],
   "source": [
    "url = \"https://www.doubai.com\"\n",
    "headers = {\n",
    "    \"User-Agent\": \"Mozilla/5.0 (Windows NT 10.0; Win64; x64) AppleWebKit/537.36 (KHTML, like Gecko) Chrome/87.0.4280.141 Safari/537.36 Edg/87.0.664.75\"\n",
    "}\n",
    "req = urllib.request.Request(url=url,headers=headers)\n",
    "res = urllib.request.urlopen(req)\n",
    "print(res.read().decode(\"utf-8\"))"
   ]
  },
  {
   "cell_type": "code",
   "execution_count": 2,
   "metadata": {
    "tags": []
   },
   "outputs": [
    {
     "output_type": "stream",
     "name": "stdout",
     "text": [
      "begin to save......\n第0条\n第1条\n第2条\n第3条\n第4条\n第5条\n第6条\n第7条\n第8条\n第9条\n第10条\n第11条\n第12条\n第13条\n第14条\n第15条\n第16条\n第17条\n第18条\n第19条\n第20条\n第21条\n第22条\n第23条\n第24条\n第25条\n第26条\n第27条\n第28条\n第29条\n第30条\n第31条\n第32条\n第33条\n第34条\n第35条\n第36条\n第37条\n第38条\n第39条\n第40条\n第41条\n第42条\n第43条\n第44条\n第45条\n第46条\n第47条\n第48条\n第49条\n第50条\n第51条\n第52条\n第53条\n第54条\n第55条\n第56条\n第57条\n第58条\n第59条\n第60条\n第61条\n第62条\n第63条\n第64条\n第65条\n第66条\n第67条\n第68条\n第69条\n第70条\n第71条\n第72条\n第73条\n第74条\n第75条\n第76条\n第77条\n第78条\n第79条\n第80条\n第81条\n第82条\n第83条\n第84条\n第85条\n第86条\n第87条\n第88条\n第89条\n第90条\n第91条\n第92条\n第93条\n第94条\n第95条\n第96条\n第97条\n第98条\n第99条\n第100条\n第101条\n第102条\n第103条\n第104条\n第105条\n第106条\n第107条\n第108条\n第109条\n第110条\n第111条\n第112条\n第113条\n第114条\n第115条\n第116条\n第117条\n第118条\n第119条\n第120条\n第121条\n第122条\n第123条\n第124条\n第125条\n第126条\n第127条\n第128条\n第129条\n第130条\n第131条\n第132条\n第133条\n第134条\n第135条\n第136条\n第137条\n第138条\n第139条\n第140条\n第141条\n第142条\n第143条\n第144条\n第145条\n第146条\n第147条\n第148条\n第149条\n第150条\n第151条\n第152条\n第153条\n第154条\n第155条\n第156条\n第157条\n第158条\n第159条\n第160条\n第161条\n第162条\n第163条\n第164条\n第165条\n第166条\n第167条\n第168条\n第169条\n第170条\n第171条\n第172条\n第173条\n第174条\n第175条\n第176条\n第177条\n第178条\n第179条\n第180条\n第181条\n第182条\n第183条\n第184条\n第185条\n第186条\n第187条\n第188条\n第189条\n第190条\n第191条\n第192条\n第193条\n第194条\n第195条\n第196条\n第197条\n第198条\n第199条\n第200条\n第201条\n第202条\n第203条\n第204条\n第205条\n第206条\n第207条\n第208条\n第209条\n第210条\n第211条\n第212条\n第213条\n第214条\n第215条\n第216条\n第217条\n第218条\n第219条\n第220条\n第221条\n第222条\n第223条\n第224条\n第225条\n第226条\n第227条\n第228条\n第229条\n第230条\n第231条\n第232条\n第233条\n第234条\n第235条\n第236条\n第237条\n第238条\n第239条\n第240条\n第241条\n第242条\n第243条\n第244条\n第245条\n第246条\n第247条\n第248条\n第249条\nsave success!\n\n                insert into movie250(info_link,pic_link,cname,oname,score,rated,introduction,info)\n                values(\"https://movie.douban.com/subject/1292052/\",\"https://img2.doubanio.com/view/photo/s_ratio_poster/public/p480747492.jpg\",\"肖申克的救赎\",\" \",\"9.7\",\" \",\"希望让人自由\",\"导演: 弗兰克·德拉邦特 Frank Darabont   主演: 蒂姆·罗宾斯 Tim Robbins  ... 1994   美国   犯罪 剧情\")\n"
     ]
    },
    {
     "output_type": "error",
     "ename": "OperationalError",
     "evalue": "table movie250 has no column named oname",
     "traceback": [
      "\u001b[1;31m---------------------------------------------------------------------------\u001b[0m",
      "\u001b[1;31mOperationalError\u001b[0m                          Traceback (most recent call last)",
      "\u001b[1;32m<ipython-input-2-e2b5b67aa4f1>\u001b[0m in \u001b[0;36m<module>\u001b[1;34m\u001b[0m\n\u001b[0;32m    152\u001b[0m     \u001b[0mconn\u001b[0m\u001b[1;33m.\u001b[0m\u001b[0mclose\u001b[0m\u001b[1;33m(\u001b[0m\u001b[1;33m)\u001b[0m\u001b[1;33m\u001b[0m\u001b[1;33m\u001b[0m\u001b[0m\n\u001b[0;32m    153\u001b[0m \u001b[1;32mif\u001b[0m \u001b[0m__name__\u001b[0m \u001b[1;33m==\u001b[0m \u001b[1;34m\"__main__\"\u001b[0m\u001b[1;33m:\u001b[0m\u001b[1;33m\u001b[0m\u001b[1;33m\u001b[0m\u001b[0m\n\u001b[1;32m--> 154\u001b[1;33m     \u001b[0mmain\u001b[0m\u001b[1;33m(\u001b[0m\u001b[1;33m)\u001b[0m\u001b[1;33m\u001b[0m\u001b[1;33m\u001b[0m\u001b[0m\n\u001b[0m",
      "\u001b[1;32m<ipython-input-2-e2b5b67aa4f1>\u001b[0m in \u001b[0;36mmain\u001b[1;34m()\u001b[0m\n\u001b[0;32m     14\u001b[0m     \u001b[1;31m#保存数据\u001b[0m\u001b[1;33m\u001b[0m\u001b[1;33m\u001b[0m\u001b[1;33m\u001b[0m\u001b[0m\n\u001b[0;32m     15\u001b[0m     \u001b[0msaveData\u001b[0m\u001b[1;33m(\u001b[0m\u001b[0mdatalist\u001b[0m\u001b[1;33m,\u001b[0m\u001b[0msavepath\u001b[0m\u001b[1;33m)\u001b[0m\u001b[1;33m\u001b[0m\u001b[1;33m\u001b[0m\u001b[0m\n\u001b[1;32m---> 16\u001b[1;33m     \u001b[0msaveDataDb\u001b[0m\u001b[1;33m(\u001b[0m\u001b[0mdatalist\u001b[0m\u001b[1;33m,\u001b[0m\u001b[0mdbpath\u001b[0m\u001b[1;33m)\u001b[0m\u001b[1;33m\u001b[0m\u001b[1;33m\u001b[0m\u001b[0m\n\u001b[0m\u001b[0;32m     17\u001b[0m \u001b[1;33m\u001b[0m\u001b[0m\n\u001b[0;32m     18\u001b[0m \u001b[1;31m#影片详情链接的规则\u001b[0m\u001b[1;33m\u001b[0m\u001b[1;33m\u001b[0m\u001b[1;33m\u001b[0m\u001b[0m\n",
      "\u001b[1;32m<ipython-input-2-e2b5b67aa4f1>\u001b[0m in \u001b[0;36msaveDataDb\u001b[1;34m(datalist, dbpath)\u001b[0m\n\u001b[0;32m    148\u001b[0m                 values(%s)'''%((\",\").join(data))\n\u001b[0;32m    149\u001b[0m         \u001b[0mprint\u001b[0m\u001b[1;33m(\u001b[0m\u001b[0msql\u001b[0m\u001b[1;33m)\u001b[0m\u001b[1;33m\u001b[0m\u001b[1;33m\u001b[0m\u001b[0m\n\u001b[1;32m--> 150\u001b[1;33m         \u001b[0mcur\u001b[0m\u001b[1;33m.\u001b[0m\u001b[0mexecute\u001b[0m\u001b[1;33m(\u001b[0m\u001b[0msql\u001b[0m\u001b[1;33m)\u001b[0m\u001b[1;33m\u001b[0m\u001b[1;33m\u001b[0m\u001b[0m\n\u001b[0m\u001b[0;32m    151\u001b[0m         \u001b[0mconn\u001b[0m\u001b[1;33m.\u001b[0m\u001b[0mcommit\u001b[0m\u001b[1;33m(\u001b[0m\u001b[1;33m)\u001b[0m\u001b[1;33m\u001b[0m\u001b[1;33m\u001b[0m\u001b[0m\n\u001b[0;32m    152\u001b[0m     \u001b[0mconn\u001b[0m\u001b[1;33m.\u001b[0m\u001b[0mclose\u001b[0m\u001b[1;33m(\u001b[0m\u001b[1;33m)\u001b[0m\u001b[1;33m\u001b[0m\u001b[1;33m\u001b[0m\u001b[0m\n",
      "\u001b[1;31mOperationalError\u001b[0m: table movie250 has no column named oname"
     ]
    }
   ],
   "source": [
    "import urllib\n",
    "import re\n",
    "from bs4 import BeautifulSoup as BS\n",
    "import xlwt\n",
    "import sqlite3\n",
    "import os\n",
    "\n",
    "def main():\n",
    "    baseurl = \"https://movie.douban.com/top250?start=\"\n",
    "    #爬取网页\n",
    "    datalist = getData(baseurl)\n",
    "    savepath = \"doubanTop250.xls\"\n",
    "    dbpath = \"movie.db\"\n",
    "    #保存数据\n",
    "    saveData(datalist,savepath)\n",
    "    saveDataDb(datalist,dbpath)\n",
    "\n",
    "#影片详情链接的规则\n",
    "findlink = re.compile(r'<a href=\"(.*?)\">') #创建一个正则表达式对象，表示规则（字符串的模式）\n",
    "#影片图片链接的规则\n",
    "findImg = re.compile(r'<img.*src=\"(.*?)\"',re.S)#忽略换行符，匹配到其他的字符，所有出现的情况\n",
    "#影片的片名\n",
    "findTitle = re.compile(r'<span class=\"title\">(.*)</span>')\n",
    "#影片评分\n",
    "findRating = re.compile(r'<span class=\"rating_num\" property=\"v:average\">(.*)</span>')\n",
    "#评价人数\n",
    "findJudge = re.compile(r'<span>(\\d*)评价人</span>')\n",
    "#找到概况\n",
    "findInq = re.compile(r'<span class=\"inq\">(.*)</span>')\n",
    "#找到影片的相应内容\n",
    "findBd = re.compile(r'<p class=\"\">(.*?)</p>',re.S)\n",
    "\n",
    "#爬取网页\n",
    "def getData(baseurl):\n",
    "    datalist = []\n",
    "    for i in range(0,10): #调用获取页面信息的函数10次\n",
    "        url = baseurl+str(i*25)\n",
    "        html = askUrl(url) #保存获取到的网页源码\n",
    "        #逐一解析数据\n",
    "        souphtml = BS(html,\"html.parser\")\n",
    "        for item in souphtml.find_all('div',class_=\"item\"): #查找符合要求的字符串形成一个列表\n",
    "            #class_表示的是属性值\n",
    "            #print(item) #测试电影item的全部信息\n",
    "            data = [] #保存一部电影的所有信息\n",
    "            item = str(item)\n",
    "            link = re.findall(findlink,item)[0] #re库通过正则表达式查找指定的字符串\n",
    "            data.append(link)\n",
    "            imgSrc = re.findall(findImg,item)[0]\n",
    "            data.append(imgSrc)\n",
    "            titles = re.findall(findTitle,item) #片名可能只有个中文名和外文名，或者只有一个\n",
    "            if titles == 2:\n",
    "                ctitle = titles[0]\n",
    "                data.append(ctitle)\n",
    "                otitle = titles[1].replace(\"/\",\"\")\n",
    "                data.append(otitle)\n",
    "            else:\n",
    "                data.append(titles[0])\n",
    "                data.append(' ')\n",
    "            Rating = re.findall(findRating,item)[0]\n",
    "            data.append(Rating)\n",
    "            Judge = re.findall(findJudge,item)\n",
    "            if len(Judge) == 1:\n",
    "                data.append(Judge)\n",
    "            else:\n",
    "                data.append(\" \")   \n",
    "            Inq = re.findall(findInq,item)\n",
    "            if len(Inq) != 0:\n",
    "                Inq = Inq[0].replace(\"。\",\"\")\n",
    "                data.append(Inq)\n",
    "            else:\n",
    "                data.append(\" \")\n",
    "            Bd = re.findall(findBd,item)[0]\n",
    "            Bd = re.sub('<br(\\s+)?/>(\\s+)?',\" \",Bd)\n",
    "            Bd = re.sub('/',\" \",Bd)\n",
    "            data.append(Bd.strip())#去掉前后的空格\n",
    "            datalist.append(data) #把处理好的一部电影数据放入datalist\n",
    "\n",
    "    return datalist\n",
    "\n",
    "#得到指定网页的一个内容\n",
    "def askUrl(url):\n",
    "    #让对方服务器认为自己是个浏览器\n",
    "    header = {\n",
    "        \"User-Agent\": \"Mozilla/5.0 (Windows NT 10.0; Win64; x64) AppleWebKit/537.36 (KHTML, like Gecko) Chrome/87.0.4280.141 Safari/537.36 Edg/87.0.664.75\"\n",
    "    }\n",
    "    request = urllib.request.Request(url,headers=header);\n",
    "    html = \"\"\n",
    "    try:\n",
    "        response = urllib.request.urlopen(request)\n",
    "        html = response.read().decode(\"utf-8\")\n",
    "    except urllib.error.URLError as e:\n",
    "        if hasattr(e,\"code\"):\n",
    "            print(e.code)\n",
    "        if hasattr(e,\"reason\"):\n",
    "            print(e.reason)\n",
    "    return html\n",
    "\n",
    "#保存数据\n",
    "def saveData(datalist,savePath):\n",
    "    print(\"begin to save......\")\n",
    "    book = xlwt.Workbook(encoding = \"utf-8\",style_compression=0)\n",
    "    sheet = book.add_sheet(\"doubanTop250\",cell_overwrite_ok=True)\n",
    "    col = (\"电影详情链接\",\"图片链接\",\"影片中文名\",\"影片外文名\",\"评分\",\"评价数\",\"概况\",\"相关信息\")\n",
    "    for i in range(0,8):\n",
    "        sheet.write(0,i,col[i])\n",
    "    for i in range(0,250):\n",
    "        print(\"第%d条\"%i)\n",
    "        data = datalist[i]\n",
    "        for j in range(0,8):\n",
    "            sheet.write(i+1,j,data[j])\n",
    "    book.save(savePath)\n",
    "    print(\"save success!\")\n",
    "\n",
    "def init_db(dbpath):\n",
    "    conn = sqlite3.connect(dbpath)\n",
    "    cursor = conn.cursor()\n",
    "    #创建数据表\n",
    "    sql ='''\n",
    "        create table movie250\n",
    "        (\n",
    "            id integer primary key autoincrement,\n",
    "            info_link text,\n",
    "            pic_link text,\n",
    "            cname text,\n",
    "            ename text,\n",
    "            score text,\n",
    "            rated text,\n",
    "            introduction text,\n",
    "            info text\n",
    "        )\n",
    "    '''\n",
    "    cursor.execute(sql)\n",
    "    conn.commit()\n",
    "    conn.close()\n",
    "\n",
    "def saveDataDb(datalist,dbpath):\n",
    "    if os.path.exists(\"movie.db\"):\n",
    "        pass\n",
    "    else:\n",
    "        init_db(dbpath)\n",
    "    conn = sqlite3.connect(dbpath)\n",
    "    cur = conn.cursor()\n",
    "    for data in datalist:\n",
    "        for index in range(len(data)):\n",
    "            data[index] = '\"'+data[index]+'\"'\n",
    "        sql = '''\n",
    "                insert into movie250(info_link,pic_link,cname,ename,score,rated,introduction,info)\n",
    "                values(%s)'''%((\",\").join(data))\n",
    "        print(sql)\n",
    "        cur.execute(sql)\n",
    "        conn.commit()\n",
    "    conn.close()\n",
    "if __name__ == \"__main__\": \n",
    "    main()"
   ]
  },
  {
   "cell_type": "code",
   "execution_count": 3,
   "metadata": {},
   "outputs": [],
   "source": [
    "import urllib\n",
    "from bs4 import BeautifulSoup\n",
    "url = \"https://www.doubai.com\" \n",
    "headers = {\n",
    "    \"User-Agent\": \"Mozilla/5.0 (Windows NT 10.0; Win64; x64) AppleWebKit/537.36 (KHTML, like Gecko) Chrome/87.0.4280.141 Safari/537.36 Edg/87.0.664.75\"\n",
    "}\n",
    "req = urllib.request.Request(url=url,headers=headers)\n",
    "html = urllib.request.urlopen(req)\n",
    "#测试bs4包的使用\n",
    "#beautiful将复杂的html文档转换成一个复杂的树形结构，每个节点分为四种\n",
    "#1.Tag 标签及其内容：拿到它找到的第一个内容\n",
    "#2.NavigableString 标签里的内容\n",
    "#3.attrs 标签中的属性\n",
    "#BeautifulSoup 表示整个文档\n",
    "#print(bs.name)\n",
    "#4.获得整个文档的内容\n",
    "#Comment 指的是文档中不含注释的内容\n",
    "#文档的遍历和搜索\n",
    "bs = BeautifulSoup(html,\"html.parser\")"
   ]
  },
  {
   "cell_type": "code",
   "execution_count": 14,
   "metadata": {},
   "outputs": [
    {
     "output_type": "stream",
     "name": "stdout",
     "text": [
      "[<head>\n<meta charset=\"utf-8\"/>\n<title></title>\n<link href=\"//dragonstatic.com/parking/css/native.css\" media=\"screen\" rel=\"stylesheet\" type=\"text/css\"/>\n<script src=\"//dragonstatic.com/parking/js/track.js?v=190929\" type=\"3a403e5efd17e3e78e5868b9-text/javascript\"></script>\n<script type=\"3a403e5efd17e3e78e5868b9-text/javascript\">var pageinfo = {ad:1};</script>\n<script src=\"//dragonstatic.com/parking/js/native.js?v=201206\" type=\"3a403e5efd17e3e78e5868b9-text/javascript\"></script>\n</head>, <meta charset=\"utf-8\"/>]\n"
     ]
    }
   ],
   "source": [
    "import re\n",
    "#更多内容搜索文档\n",
    "# print(bs.head.contents[1])\n",
    "#基于文档的搜索，查询操作\n",
    "#(1) find_all() 字符串过滤\n",
    "t_list = bs.find_all(\"src\")\n",
    "# print(t_list)\n",
    "#正则表达式搜索使用search()方法来匹配\n",
    "t_list = bs.find_all(re.compile(\"a\"))\n",
    "print(t_list)"
   ]
  },
  {
   "cell_type": "code",
   "execution_count": 1,
   "metadata": {},
   "outputs": [
    {
     "output_type": "stream",
     "name": "stdout",
     "text": [
      "Open database successfully!\n"
     ]
    }
   ],
   "source": [
    "import sqlite3\n",
    "conn = sqlite3.connect(\"test.db\")#打开或创建数据库文件\n",
    "print(\"Open database successfully!\")\n",
    "c = conn.cursor() #获取游标\n",
    "sql = '''\n",
    "    create table company\n",
    "        (id int primary key not null,\n",
    "        name text not null,\n",
    "        age int not null,\n",
    "        address char(50),\n",
    "        salary real);\n",
    "''' #执行sql语句\n",
    "c.execute(sql)\n",
    "conn.commit()#提交数据库操作\n",
    "conn.close()#关闭数据库操作"
   ]
  },
  {
   "cell_type": "code",
   "execution_count": 2,
   "metadata": {},
   "outputs": [
    {
     "output_type": "stream",
     "name": "stdout",
     "text": [
      "成功打开数据库\n"
     ]
    }
   ],
   "source": [
    "#插入数据\n",
    "conn = sqlite3.connect(\"test.db\")\n",
    "print(\"成功打开数据库\")\n",
    "c = conn.cursor()\n",
    "sql1 = '''\n",
    "    insert into company (id,name,age,address,salary)\n",
    "    values(1,'张三',32,\"成都\",8000);   \n",
    "''' #执行sql1语句\n",
    "sql2 = '''\n",
    "    insert into company (id,name,age,address,salary)\n",
    "    values(2,'李四',30,\"重庆\",15000);   \n",
    "''' #执行sql2语句\n",
    "c.execute(sql1)\n",
    "c.execute(sql2)\n",
    "conn.commit()#提交数据库操作\n",
    "conn.close()#关闭数据库操作\n",
    "\n"
   ]
  },
  {
   "cell_type": "code",
   "execution_count": 3,
   "metadata": {},
   "outputs": [
    {
     "output_type": "stream",
     "name": "stdout",
     "text": [
      "成功打开数据库\nid= 1\nname= 张三\naddress= 成都\nsalary= 8000.0 \n\nid= 2\nname= 李四\naddress= 重庆\nsalary= 15000.0 \n\n查询完毕\n"
     ]
    }
   ],
   "source": [
    "#查询数据\n",
    "import sqlite3\n",
    "conn = sqlite3.connect(\"test.db\")\n",
    "print(\"成功打开数据库\")\n",
    "c = conn.cursor()\n",
    "sql = \"select id,name,address,salary from company\" #执行sql语句\n",
    "cursor=c.execute(sql)\n",
    "for row in cursor:\n",
    "    print(\"id=\",row[0])\n",
    "    print(\"name=\",row[1])\n",
    "    print(\"address=\",row[2])\n",
    "    print(\"salary=\",row[3],\"\\n\")\n",
    "conn.commit()#提交数据库操作\n",
    "conn.close()#关闭数据库操作\n",
    "print(\"查询完毕\")"
   ]
  },
  {
   "cell_type": "code",
   "execution_count": 6,
   "metadata": {},
   "outputs": [
    {
     "output_type": "error",
     "ename": "OperationalError",
     "evalue": "no such table: movie250",
     "traceback": [
      "\u001b[1;31m---------------------------------------------------------------------------\u001b[0m",
      "\u001b[1;31mOperationalError\u001b[0m                          Traceback (most recent call last)",
      "\u001b[1;32m<ipython-input-6-7296bdbb14be>\u001b[0m in \u001b[0;36m<module>\u001b[1;34m\u001b[0m\n\u001b[0;32m      4\u001b[0m sql = '''insert into movie250(info_link,pic_link,cname,oname,score,rated,introduction,info)\n\u001b[0;32m      5\u001b[0m                 values(\"https://movie.douban.com/subject/1292052/\",\"https://img2.doubanio.com/view/photo/s_ratio_poster/public/p480747492.jpg\",\"肖申克的救赎\",\" \",9.7,123,\"希望让人自由\",\"导演: 弗兰克·德拉邦特 Frank Darabont   主演: 蒂姆·罗宾斯 Tim Robbins  ... 1994   美国   犯罪 剧情\")'''\n\u001b[1;32m----> 6\u001b[1;33m \u001b[0mcur\u001b[0m\u001b[1;33m.\u001b[0m\u001b[0mexecute\u001b[0m\u001b[1;33m(\u001b[0m\u001b[0msql\u001b[0m\u001b[1;33m)\u001b[0m\u001b[1;33m\u001b[0m\u001b[1;33m\u001b[0m\u001b[0m\n\u001b[0m\u001b[0;32m      7\u001b[0m \u001b[0mcur\u001b[0m\u001b[1;33m.\u001b[0m\u001b[0mcommit\u001b[0m\u001b[1;33m(\u001b[0m\u001b[1;33m)\u001b[0m\u001b[1;33m\u001b[0m\u001b[1;33m\u001b[0m\u001b[0m\n\u001b[0;32m      8\u001b[0m \u001b[0mcur\u001b[0m\u001b[1;33m.\u001b[0m\u001b[0mclose\u001b[0m\u001b[1;33m(\u001b[0m\u001b[1;33m)\u001b[0m\u001b[1;33m\u001b[0m\u001b[1;33m\u001b[0m\u001b[0m\n",
      "\u001b[1;31mOperationalError\u001b[0m: no such table: movie250"
     ]
    }
   ],
   "source": [
    "import sqlite3\n",
    "conn = sqlite3.connect(\"moive.db\")\n",
    "cur = conn.cursor()\n",
    "sql = '''insert into movie250(info_link,pic_link,cname,oname,score,rated,introduction,info)\n",
    "                values(\"https://movie.douban.com/subject/1292052/\",\"https://img2.doubanio.com/view/photo/s_ratio_poster/public/p480747492.jpg\",\"肖申克的救赎\",\" \",9.7,123,\"希望让人自由\",\"导演: 弗兰克·德拉邦特 Frank Darabont   主演: 蒂姆·罗宾斯 Tim Robbins  ... 1994   美国   犯罪 剧情\")'''\n",
    "cur.execute(sql)\n",
    "cur.commit()\n",
    "cur.close()"
   ]
  },
  {
   "cell_type": "code",
   "execution_count": null,
   "metadata": {},
   "outputs": [],
   "source": []
  }
 ]
}