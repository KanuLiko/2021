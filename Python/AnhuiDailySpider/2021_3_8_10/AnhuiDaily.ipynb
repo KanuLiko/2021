{
 "metadata": {
  "language_info": {
   "codemirror_mode": {
    "name": "ipython",
    "version": 3
   },
   "file_extension": ".py",
   "mimetype": "text/x-python",
   "name": "python",
   "nbconvert_exporter": "python",
   "pygments_lexer": "ipython3",
   "version": "3.8.8-final"
  },
  "orig_nbformat": 2,
  "kernelspec": {
   "name": "python3",
   "display_name": "Python 3.8.8 64-bit",
   "metadata": {
    "interpreter": {
     "hash": "1baa965d5efe3ac65b79dfc60c0d706280b1da80fedb7760faf2759126c4f253"
    }
   }
  }
 },
 "nbformat": 4,
 "nbformat_minor": 2,
 "cells": [
  {
   "cell_type": "code",
   "execution_count": 1,
   "metadata": {
    "tags": []
   },
   "outputs": [
    {
     "output_type": "stream",
     "name": "stdout",
     "text": [
      "正在下载65页\n",
      "封号中\n"
     ]
    }
   ],
   "source": [
    "# -*- coding: utf-8 -*-\n",
    "import requests\n",
    "import time\n",
    "import json\n",
    "import xlwt\n",
    "import xlrd\n",
    "import os\n",
    "\n",
    "def downloadPages():\n",
    "    AnhuiDaily = xlrd.open_workbook(\"downloadPages.xls\")\n",
    "    AnhuiDailyArticles = AnhuiDaily.sheets()[0]\n",
    "    downloadPages = AnhuiDailyArticles.cell(0,0).value\n",
    "    return int(downloadPages)\n",
    "savePath = \"\"\n",
    "for i in range(1,10):\n",
    "    if os.path.exists(\"AnhuiDaily_Part\"+str(i)+\".xls\"):\n",
    "        continue\n",
    "    else:\n",
    "        savePath = \"AnhuiDaily_Part\"+str(i)+\".xls\"\n",
    "workbook = xlwt.Workbook(encoding='utf-8')\n",
    "Worksheet = workbook.add_sheet('AuhuiDaily_articles')\n",
    "'''把时间戳转换为具体的事件点'''\n",
    "def timeStampTrans(timeStamp):\n",
    "    timeArray = time.localtime(timeStamp)\n",
    "    otherStyleTime = time.strftime(\"%y-%m-%d %H:%M:%S\",timeArray)\n",
    "    return otherStyleTime\n",
    "# 目标url\n",
    "url = \"https://mp.weixin.qq.com/cgi-bin/appmsg\"\n",
    "cookies = \"appmsglist_action_3871587551=card; appmsglist_action_3079540100=card; sd_userid=89841614845091695; sd_cookie_crttime=1614845091695; pgv_pvid=7550858791; ua_id=Sjaeep74iXpbQpvGAAAAAEzkgjVDOXK_0sTDgga3q7g=; ptui_loginuin=2463852497; RK=aZbozLv+1S; ptcz=270e10fe9e1e46f3f61280b96196cf48b24fa0f8d3bcb9a695503fbd6028b380; openid2ticket_o37zD5m8wS8d1H6oQSG8H1UJ465o=; mm_lang=zh_CN; openid2ticket_oFm_b1cIh6nTPaPP4Bd6WV_RJKhA=; wxuin=14859607776210; noticeLoginFlag=1; remember_acct=wytmxutao%40gmail.com; _gid=GA1.2.198725289.1614921619; _ga=GA1.2.630379023.1614921619; uuid=c59a4ef1bdd020213f34eb7687a8cbe5; rand_info=CAESIIu4d1V0ZUXnBcRFYPSPfEKJG689S1V1OXraQi25KnVB; slave_bizuin=3079540100; data_bizuin=3079540100; bizuin=3079540100; data_ticket=+5/L352oAOJ3cb3pnBcP4WBsLRU8lxRDBIhAy6/8maSYEJbuyxB6kEcv9GlvVx2n; slave_sid=TEtMYVpZMHlUNUppdlNlN2xrZWQ5RE9zellKMGduaUtIN0M4c095eUhGYThSQWRLdWtvYUFDdzlQZkNmajhCYVdlYzJOVWxXM0c4Wm9uQW1FYnV0Z3BSaTA5TnJwMVJBc0h1VjdNT29pN1hGT3F2Y2ZHeWVnSE83OWlGVVRBWldzWk1OenJTcEJiWWVDVTZR; slave_user=gh_9df7ddfffabe; xid=184aee0bc0c646df18a92b11ac92df65; openid2ticket_ohA2Ot3_04jT2eoqByu44pr2iN3w=Dzt6usVLr+6+pZD5+IINylW2ILKXNK1YJ1muDy6k1dI=\"\n",
    "# 使用Cookie，跳过登陆操作\n",
    "headers = {\n",
    "  \"Cookie\": cookies,\n",
    "  \"User-Agent\": \"Mozilla/5.0 (Windows NT 10.0; Win64; x64) AppleWebKit/537.36 (KHTML, like Gecko) Chrome/89.0.4389.72 Safari/537.36 Edg/89.0.774.45\",\n",
    "}\n",
    "\n",
    "\"\"\"\n",
    "需要提交的data\n",
    "以下个别字段是否一定需要还未验证。\n",
    "注意修改yourtoken,number\n",
    "number表示从第number页开始爬取，为5的倍数，从0开始。如0、5、10……\n",
    "token可以使用Chrome自带的工具进行获取\n",
    "fakeid是公众号独一无二的一个id，等同于后面的__biz\n",
    "\"\"\"\n",
    "'''新闻计数器'''\n",
    "NewsCount = 0\n",
    "'''检查下载了多少篇文章，断点续传'''\n",
    "for newsPage in range(downloadPages(),316):\n",
    "    print(\"正在下载\"+str(newsPage)+\"页\")\n",
    "    data = {\n",
    "            \"token\": 1130076224,\n",
    "            \"lang\": \"zh_CN\",\n",
    "            \"f\": \"json\",\n",
    "            \"ajax\": \"1\",\n",
    "            \"action\": \"list_ex\",\n",
    "            \"begin\": str(newsPage),\n",
    "            \"count\": \"5\",\n",
    "            \"query\": \"\",\n",
    "            \"fakeid\": \"MzA5NTc5ODQwMA==\",\n",
    "            \"type\": \"9\",\n",
    "        }\n",
    "        # 使用get方法进行提交\n",
    "    content_json = requests.get(url, headers=headers, params=data).json()\n",
    "        # 返回了一个json，里面是每一页的数据\n",
    "    beforeCount = NewsCount\n",
    "    try:\n",
    "        for item in content_json[\"app_msg_list\"]:\n",
    "            NewsTitle = item['title']\n",
    "            Newslink = item['link']\n",
    "            NewsTime = timeStampTrans(item['create_time'])\n",
    "            SingleNews = [NewsTitle,Newslink,NewsTime]\n",
    "            for i in range(0,3):\n",
    "                if existFile:\n",
    "                    newWorkSheet.write(NewsCount,i,SingleNews[i])\n",
    "                else:\n",
    "                    Worksheet.write(NewsCount,i,SingleNews[i])\n",
    "            NewsCount +=1\n",
    "        print(\"第\"+str(newsPage)+\"页,\"+\"有\"+str(NewsCount-beforeCount)+\"篇新闻,\"+\"共\"+str(NewsCount)+\"篇新闻\")\n",
    "        time.sleep(10)\n",
    "        workbook.save(savePath)\n",
    "    except KeyError:\n",
    "        if newsPage != downloadPages():\n",
    "            Pages = xlwt.Workbook(encoding='utf-8')\n",
    "            PageSheet = Pages.add_sheet('downloadPages')\n",
    "            PageSheet.write(0,0,str(newsPage))\n",
    "            Pages.save(\"downloadPages.xls\")\n",
    "            print(\"微信封号中请耐心等待\")\n",
    "        else:\n",
    "            print(\"封号中\")\n",
    "            break"
   ]
  },
  {
   "cell_type": "code",
   "execution_count": 13,
   "metadata": {},
   "outputs": [
    {
     "output_type": "stream",
     "name": "stdout",
     "text": [
      "[2, 7, 347.0]\n"
     ]
    }
   ],
   "source": [
    "def PrimeNum(num):\n",
    "\n",
    "   r_value =[]\n",
    "\n",
    "   for i in range(2,num+1):\n",
    "\n",
    "      for j in range(2,i):\n",
    "\n",
    "         if i % j == 0:\n",
    "\n",
    "            break\n",
    "\n",
    "      else:\n",
    "\n",
    "         r_value.append(i)\n",
    "\n",
    "   return r_value\n",
    "\n",
    "def PrimeFactorSolve(num,prime_list):\n",
    "\n",
    "   for n in prime_list:\n",
    "\n",
    "      if num % n == 0:\n",
    "\n",
    "         return [n,num / n]\n",
    "\n",
    "def Primepisor(num):\n",
    "\n",
    "   prime_range= PrimeNum(num)\n",
    "\n",
    "   ret_vale =[]\n",
    "\n",
    "   while num not in prime_range:\n",
    "\n",
    "      factor_list= PrimeFactorSolve(num,prime_range)\n",
    "\n",
    "      ret_vale.append(factor_list[0])\n",
    "\n",
    "      num =factor_list[1]\n",
    "\n",
    "   else:\n",
    "\n",
    "      ret_vale.append(num)\n",
    "\n",
    "   print(ret_vale)\n",
    "\n",
    "Primepisor(4858)"
   ]
  },
  {
   "cell_type": "code",
   "execution_count": null,
   "metadata": {},
   "outputs": [],
   "source": []
  },
  {
   "cell_type": "code",
   "execution_count": null,
   "metadata": {},
   "outputs": [],
   "source": []
  }
 ]
}